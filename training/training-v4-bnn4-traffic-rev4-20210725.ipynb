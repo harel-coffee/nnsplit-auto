{
 "cells": [
  {
   "cell_type": "markdown",
   "metadata": {},
   "source": [
    "# Jupyter Notebook for Traffic"
   ]
  },
  {
   "cell_type": "markdown",
   "metadata": {},
   "source": [
    "## Import Libraries"
   ]
  },
  {
   "cell_type": "code",
   "execution_count": 2,
   "metadata": {},
   "outputs": [],
   "source": [
    "from pathlib import Path\n",
    "from datetime import datetime\n",
    "import os\n",
    "\n",
    "import numpy as np\n",
    "import pandas as pd\n",
    "from scapy.compat import raw\n",
    "from scapy.layers.inet import IP, UDP\n",
    "from scapy.layers.l2 import Ether\n",
    "from scapy.packet import Padding\n",
    "#from scipy import sparse\n",
    "\n",
    "from joblib import Parallel, delayed\n",
    "\n",
    "import tensorflow as tf\n",
    "from tensorflow import keras\n",
    "from tensorflow.keras import layers\n",
    "from keras.constraints import maxnorm\n",
    "\n",
    "from sklearn.model_selection import train_test_split\n",
    "\n",
    "from imblearn.over_sampling import RandomOverSampler\n",
    "from imblearn.under_sampling import RandomUnderSampler\n",
    "\n",
    "from keras.utils.np_utils import to_categorical\n",
    "import matplotlib.pyplot as plt\n",
    "from collections import Counter\n",
    "import seaborn as sn\n",
    "\n",
    "from utils_new_3 import should_omit_packet, read_pcap, PREFIX_TO_TRAFFIC_ID_NEW"
   ]
  },
  {
   "cell_type": "markdown",
   "metadata": {},
   "source": [
    "## Define Necessary Function"
   ]
  },
  {
   "cell_type": "code",
   "execution_count": 3,
   "metadata": {},
   "outputs": [],
   "source": [
    "def inttobit(n):\n",
    "    return [1 if digit=='1' else -1 for digit in '{0:056b}'.format(n)]\n",
    "\n",
    "def bintoint(binary):\n",
    "    number = 0\n",
    "    for b in binary:\n",
    "        number = (2*number)+int(b)\n",
    "    return number\n",
    "\n",
    "def conv_header(proto, sport, dport, size):\n",
    "    proto_bin = [int(x) for x in '{0:08b}'.format(proto)]\n",
    "    sport_bin = [int(x) for x in '{0:016b}'.format(sport)]\n",
    "    dport_bin = [int(x) for x in '{0:016b}'.format(dport)]\n",
    "    size_bin = [int(x) for x in '{0:016b}'.format(size)]\n",
    "    metric = proto_bin+sport_bin+dport_bin+size_bin\n",
    "    metric_int = bintoint(metric)\n",
    "    return metric, metric_int\n",
    "\n",
    "#convert weights to binary weights and to integer\n",
    "def convert_weight_to_file(weight_data, filename):\n",
    "    weight= []\n",
    "    weights = []\n",
    "    for i in weight_data:\n",
    "        for j in i:\n",
    "            if j < 0:\n",
    "                weight.append(0)\n",
    "            else:\n",
    "                weight.append(1)\n",
    "        weights.append(bintoint(weight))\n",
    "        weight.clear()\n",
    "    txtfile = open(filename, \"w\")\n",
    "    for i in weights:\n",
    "        txtfile.write(str(i) + \"\\n\")\n",
    "    txtfile.close()\n",
    "\n",
    "\n",
    "def transform_packet(packet):\n",
    "    if should_omit_packet(packet):\n",
    "        return None\n",
    "\n",
    "    if 'IP' in packet:\n",
    "        size =  int(packet.len)\n",
    "        try:\n",
    "            proto = (packet.proto)\n",
    "        except AttributeError:\n",
    "            proto = 0\n",
    "        try:\n",
    "            sport = (packet.sport)\n",
    "            dport = (packet.dport)\n",
    "        except AttributeError:\n",
    "            sport = 0\n",
    "            dport = 0\n",
    "\n",
    "        proto = [int(x) for x in '{0:08b}'.format(proto)]\n",
    "        sport = [int(x) for x in '{0:016b}'.format(sport)]\n",
    "        dport = [int(x) for x in '{0:016b}'.format(dport)]\n",
    "        size =  [int(x) for x in '{0:016b}'.format(size)]\n",
    "        #metric = [(proto/255), (sport/65535), (dport/65535), (size/65535)]\n",
    "        metric = proto + sport + dport + size\n",
    "        adapted_metric = [-1 if x == 0 else x for x in metric]\n",
    "    #arr = packet_to_sparse_array(packet)\n",
    "        if len(adapted_metric) == 56:\n",
    "            return np.asarray(adapted_metric)\n",
    "\n",
    "def transform_pcap(path, output_path: Path = None, output_batch_size=10000):\n",
    "    if Path(str(output_path.absolute()) + '_SUCCESS').exists():\n",
    "        print(output_path, 'Done')\n",
    "        return\n",
    "    \n",
    "    start = datetime.now()\n",
    "    print('########################################')\n",
    "\n",
    "    print('Processing', path, '. Started at:', start)\n",
    "\n",
    "    rows = []\n",
    "    batch_index = 0\n",
    "    #for pcap in path.iterdir():\n",
    "    for i, packet in enumerate(read_pcap(path)):\n",
    "        arr = transform_packet(packet)\n",
    "        if arr is not None:\n",
    "            # get labels for app identification\n",
    "            prefix = path.name.split('.')[0].lower()\n",
    "            #app_label = PREFIX_TO_APP_ID.get(prefix)\n",
    "            traffic_label = PREFIX_TO_TRAFFIC_ID_NEW.get(prefix)\n",
    "            ###### ADDED: check if the the label exist or not\n",
    "            #if app_label is not None and traffic_label is not None:\n",
    "            if traffic_label is not None:\n",
    "                row = {\n",
    "                    #'app_label': app_label,\n",
    "                    'traffic_label': traffic_label,\n",
    "                    'feature': arr\n",
    "                }\n",
    "                rows.append(row)\n",
    "        #print(path, 'Done')\n",
    "    #print(output_path, 'Done processing')\n",
    "        if rows and i > 0 and i % output_batch_size == 0:\n",
    "            part_output_path = Path(str(output_path.absolute()) + f'_part_{batch_index:04d}.parquet')\n",
    "            df = pd.DataFrame(rows)\n",
    "            df.to_parquet(part_output_path)\n",
    "            batch_index += 1\n",
    "            rows.clear()\n",
    "            \n",
    "    if rows:\n",
    "        df = pd.DataFrame(rows)\n",
    "        part_output_path = Path(str(output_path.absolute()) + f'_part_{batch_index:04d}.parquet')\n",
    "        df.to_parquet(part_output_path)\n",
    "    \n",
    "    with Path(str(output_path.absolute()) + '_SUCCESS').open('w') as f:\n",
    "        f.write('')\n",
    "        \n",
    "    print(path, 'Done. End: ', datetime.now(), ' Processing time: ', (datetime.now()-start))\n",
    "    "
   ]
  },
  {
   "cell_type": "markdown",
   "metadata": {},
   "source": [
    "## Data Location"
   ]
  },
  {
   "cell_type": "code",
   "execution_count": 4,
   "metadata": {},
   "outputs": [],
   "source": [
    "#pcap location\n",
    "data_path = Path(\"thesis_data_3rd-20210725/\")\n",
    "output_path = Path(\"thesis_preprocessed_traffic_bnn-rev3/\")\n",
    "output_path.mkdir(parents=True, exist_ok=True)\n",
    "#type(data_path)"
   ]
  },
  {
   "cell_type": "markdown",
   "metadata": {},
   "source": [
    "## Process PCAP Data"
   ]
  },
  {
   "cell_type": "code",
   "execution_count": 5,
   "metadata": {},
   "outputs": [
    {
     "name": "stdout",
     "output_type": "stream",
     "text": [
      "thesis_preprocessed_traffic_bnn-rev3\\file-transfer.pcap.transformed Done\n",
      "thesis_preprocessed_traffic_bnn-rev3\\streaming.pcap.transformed Done\n",
      "thesis_preprocessed_traffic_bnn-rev3\\torrent.pcap.transformed Done\n",
      "thesis_preprocessed_traffic_bnn-rev3\\vpn-file-transfer.pcap.transformed Done\n",
      "thesis_preprocessed_traffic_bnn-rev3\\vpn-streaming.pcap.transformed Done\n",
      "thesis_preprocessed_traffic_bnn-rev3\\vpn-torrent.pcap.transformed Done\n",
      "transforming pcap: finished\n"
     ]
    }
   ],
   "source": [
    "#transform pcap into dictionary{app_label, traffic_label, feature}\n",
    "#rows = transform_pcap(data_path, output_path)\n",
    "Parallel(n_jobs=1)(\n",
    "    delayed(transform_pcap)(pcap_path, output_path / (pcap_path.name + '.transformed')) for pcap_path in\n",
    "    sorted(data_path.iterdir()))\n",
    "print('transforming pcap: finished')"
   ]
  },
  {
   "cell_type": "markdown",
   "metadata": {},
   "source": [
    "## Read Data From Extracted PCAP"
   ]
  },
  {
   "cell_type": "code",
   "execution_count": 6,
   "metadata": {},
   "outputs": [
    {
     "name": "stdout",
     "output_type": "stream",
     "text": [
      "Counter({0: 2519799, 1: 1051429, 2: 330281})\n"
     ]
    }
   ],
   "source": [
    "#read parquet files\n",
    "data = pd.concat(\n",
    "    (pd.read_parquet(parquet_file)\n",
    "    for parquet_file in output_path.glob('*.parquet')),\n",
    "    ignore_index=True\n",
    ")\n",
    "print(Counter(data['traffic_label']))"
   ]
  },
  {
   "cell_type": "markdown",
   "metadata": {},
   "source": [
    "## Shuffling, Undersampling, Oversampling"
   ]
  },
  {
   "cell_type": "code",
   "execution_count": 6,
   "metadata": {},
   "outputs": [
    {
     "name": "stdout",
     "output_type": "stream",
     "text": [
      "Counter({1: 2519799, 0: 2519799, 2: 2519799})\n"
     ]
    }
   ],
   "source": [
    "#randomize data\n",
    "data = data.sample(frac=1).reset_index(drop=True)\n",
    "\n",
    "\n",
    "#convert dtype to simpler dtype\n",
    "#data['app_label'] = data['app_label'].astype('int8')\n",
    "data['traffic_label'] = data['traffic_label'].astype('int8')\n",
    "\n",
    "#######Undersampling (traffic label as class)\n",
    "# Convert dataframe -> list\n",
    "labels = data['traffic_label'].tolist()\n",
    "features = data['feature'].tolist()\n",
    "\n",
    "#Undersampling several classes to 255000\n",
    "#rus = RandomUnderSampler(sampling_strategy={0: 252000, 1:252000, 4: 252000, 5:252000})\n",
    "\n",
    "#Oversampling the minority to 255000\n",
    "#ros = RandomOverSampler(sampling_strategy={2: 252000, 3: 252000})\n",
    "ros = RandomOverSampler(sampling_strategy={1: 2519799, 2: 2519799})\n",
    "\n",
    "#Execute undersampling and oversampling\n",
    "feature_resampled, label_resampled = ros.fit_resample(features, labels)\n",
    "#feature_resampled, label_resampled = ros.fit_resample(feature_resampled, label_resampled)\n",
    "\n",
    "#one_hot_label_resampled = to_categorical(label_resampled, num_classes=6)\n",
    "print(Counter(label_resampled))\n",
    "\n",
    "data = None\n",
    "labels = None\n",
    "features = None\n"
   ]
  },
  {
   "cell_type": "markdown",
   "metadata": {},
   "source": [
    "## Train and Test Split"
   ]
  },
  {
   "cell_type": "code",
   "execution_count": 7,
   "metadata": {},
   "outputs": [],
   "source": [
    "#divide train and test data\n",
    "#x_train, x_test, y_train, y_test = train_test_split(np.array(list(data['feature']), dtype=np.float32), data['traffic_label'].values, test_size=0.2, random_state=1)\n",
    "\n",
    "x_train, x_test, y_train, y_test = train_test_split(np.array(feature_resampled, dtype=np.float32), np.asarray(label_resampled), test_size=0.2, random_state=1)\n",
    "\n",
    "#x_train, x_test, y_train, y_test = train_test_split(np.array(features, dtype=np.float32), np.array(labels, dtype=np.float32),test_size=0.2, random_state=1)\n",
    "\n",
    "x_train, x_val, y_train, y_val = train_test_split(x_train, y_train, test_size=0.25, random_state=1) # 0.25 x 0.8 = 0.2\n",
    "label_resampled = None\n",
    "feature_resampled = None"
   ]
  },
  {
   "cell_type": "markdown",
   "metadata": {},
   "source": [
    "## Build NN model"
   ]
  },
  {
   "cell_type": "code",
   "execution_count": 8,
   "metadata": {},
   "outputs": [],
   "source": [
    "model = None\n",
    "\n",
    "# model = keras.Model(inputs=inputs, outputs=outputs)\n",
    "model = keras.models.Sequential()\n",
    "model.add(layers.Dropout(0.2))\n",
    "model.add(layers.Dense(56, input_dim=56, activation=\"tanh\", name=\"dense_1\", kernel_constraint=maxnorm(2)))\n",
    "model.add(layers.Dropout(0.5))\n",
    "model.add(layers.Dense(56, activation=\"tanh\", name=\"dense_2\", kernel_constraint=maxnorm(2)))\n",
    "model.add(layers.Dropout(0.5))\n",
    "model.add(layers.Dense(56, activation=\"tanh\", name=\"dense_3\", kernel_constraint=maxnorm(2)))\n",
    "model.add(layers.Dropout(0.5))\n",
    "model.add(layers.Dense(56, activation=\"tanh\", name=\"dense_4\", kernel_constraint=maxnorm(2)))\n",
    "model.add(layers.Dropout(0.5))\n",
    "model.add(layers.Dense(3, activation=\"softmax\", name=\"predictions\"))"
   ]
  },
  {
   "cell_type": "markdown",
   "metadata": {},
   "source": [
    "## Compile Model"
   ]
  },
  {
   "cell_type": "code",
   "execution_count": 9,
   "metadata": {},
   "outputs": [],
   "source": [
    "#define optimizer, loss function, and metric\n",
    "model.compile(\n",
    "    optimizer=keras.optimizers.Adam(),  # Optimizer\n",
    "    # Loss function to minimize\n",
    "    loss=keras.losses.SparseCategoricalCrossentropy(),\n",
    "    # List of metrics to monitor\n",
    "    metrics=[keras.metrics.SparseCategoricalAccuracy()]\n",
    "    #metrics=[keras.metrics.Accuracy()],\n",
    ")\n"
   ]
  },
  {
   "cell_type": "markdown",
   "metadata": {},
   "source": [
    "## Train the Model"
   ]
  },
  {
   "cell_type": "code",
   "execution_count": 10,
   "metadata": {},
   "outputs": [
    {
     "name": "stdout",
     "output_type": "stream",
     "text": [
      "Epoch 1/50\n",
      "35435/35435 - 97s - loss: 0.1474 - sparse_categorical_accuracy: 0.9558 - val_loss: 0.0513 - val_sparse_categorical_accuracy: 0.9854\n",
      "Epoch 2/50\n",
      "35435/35435 - 105s - loss: 0.1173 - sparse_categorical_accuracy: 0.9652 - val_loss: 0.0462 - val_sparse_categorical_accuracy: 0.9853\n",
      "Epoch 3/50\n",
      "35435/35435 - 104s - loss: 0.1140 - sparse_categorical_accuracy: 0.9659 - val_loss: 0.0434 - val_sparse_categorical_accuracy: 0.9860\n",
      "Epoch 4/50\n",
      "35435/35435 - 105s - loss: 0.1118 - sparse_categorical_accuracy: 0.9667 - val_loss: 0.0417 - val_sparse_categorical_accuracy: 0.9858\n",
      "Epoch 5/50\n",
      "35435/35435 - 102s - loss: 0.1110 - sparse_categorical_accuracy: 0.9671 - val_loss: 0.0431 - val_sparse_categorical_accuracy: 0.9856\n",
      "Epoch 6/50\n",
      "35435/35435 - 97s - loss: 0.1099 - sparse_categorical_accuracy: 0.9674 - val_loss: 0.0429 - val_sparse_categorical_accuracy: 0.9881\n",
      "Epoch 7/50\n",
      "35435/35435 - 89s - loss: 0.1088 - sparse_categorical_accuracy: 0.9676 - val_loss: 0.0414 - val_sparse_categorical_accuracy: 0.9880\n",
      "Epoch 8/50\n",
      "35435/35435 - 90s - loss: 0.1085 - sparse_categorical_accuracy: 0.9680 - val_loss: 0.0425 - val_sparse_categorical_accuracy: 0.9882\n",
      "Epoch 9/50\n",
      "35435/35435 - 111s - loss: 0.1082 - sparse_categorical_accuracy: 0.9680 - val_loss: 0.0395 - val_sparse_categorical_accuracy: 0.9902\n",
      "Epoch 10/50\n",
      "35435/35435 - 138s - loss: 0.1080 - sparse_categorical_accuracy: 0.9681 - val_loss: 0.0414 - val_sparse_categorical_accuracy: 0.9900\n",
      "Epoch 11/50\n",
      "35435/35435 - 114s - loss: 0.1079 - sparse_categorical_accuracy: 0.9681 - val_loss: 0.0418 - val_sparse_categorical_accuracy: 0.9880\n",
      "Epoch 12/50\n",
      "35435/35435 - 105s - loss: 0.1080 - sparse_categorical_accuracy: 0.9682 - val_loss: 0.0427 - val_sparse_categorical_accuracy: 0.9883\n",
      "Epoch 13/50\n",
      "35435/35435 - 116s - loss: 0.1072 - sparse_categorical_accuracy: 0.9684 - val_loss: 0.0390 - val_sparse_categorical_accuracy: 0.9904\n",
      "Epoch 14/50\n",
      "35435/35435 - 101s - loss: 0.1071 - sparse_categorical_accuracy: 0.9685 - val_loss: 0.0455 - val_sparse_categorical_accuracy: 0.9880\n",
      "Epoch 15/50\n",
      "35435/35435 - 106s - loss: 0.1069 - sparse_categorical_accuracy: 0.9686 - val_loss: 0.0444 - val_sparse_categorical_accuracy: 0.9879\n",
      "Epoch 16/50\n",
      "35435/35435 - 111s - loss: 0.1068 - sparse_categorical_accuracy: 0.9686 - val_loss: 0.0419 - val_sparse_categorical_accuracy: 0.9883\n",
      "Epoch 17/50\n",
      "35435/35435 - 98s - loss: 0.1065 - sparse_categorical_accuracy: 0.9688 - val_loss: 0.0454 - val_sparse_categorical_accuracy: 0.9880\n",
      "Epoch 18/50\n",
      "35435/35435 - 95s - loss: 0.1066 - sparse_categorical_accuracy: 0.9687 - val_loss: 0.0438 - val_sparse_categorical_accuracy: 0.9886\n",
      "Epoch 19/50\n",
      "35435/35435 - 99s - loss: 0.1060 - sparse_categorical_accuracy: 0.9688 - val_loss: 0.0409 - val_sparse_categorical_accuracy: 0.9898\n",
      "Epoch 20/50\n",
      "35435/35435 - 89s - loss: 0.1061 - sparse_categorical_accuracy: 0.9688 - val_loss: 0.0447 - val_sparse_categorical_accuracy: 0.9882\n",
      "Epoch 21/50\n",
      "35435/35435 - 88s - loss: 0.1059 - sparse_categorical_accuracy: 0.9690 - val_loss: 0.0444 - val_sparse_categorical_accuracy: 0.9881\n",
      "Epoch 22/50\n",
      "35435/35435 - 88s - loss: 0.1057 - sparse_categorical_accuracy: 0.9689 - val_loss: 0.0418 - val_sparse_categorical_accuracy: 0.9900\n",
      "Epoch 23/50\n",
      "35435/35435 - 88s - loss: 0.1062 - sparse_categorical_accuracy: 0.9689 - val_loss: 0.0457 - val_sparse_categorical_accuracy: 0.9879\n",
      "Epoch 24/50\n",
      "35435/35435 - 88s - loss: 0.1056 - sparse_categorical_accuracy: 0.9690 - val_loss: 0.0437 - val_sparse_categorical_accuracy: 0.9880\n",
      "Epoch 25/50\n",
      "35435/35435 - 88s - loss: 0.1056 - sparse_categorical_accuracy: 0.9692 - val_loss: 0.0447 - val_sparse_categorical_accuracy: 0.9882\n",
      "Epoch 26/50\n",
      "35435/35435 - 88s - loss: 0.1049 - sparse_categorical_accuracy: 0.9694 - val_loss: 0.0421 - val_sparse_categorical_accuracy: 0.9881\n",
      "Epoch 27/50\n",
      "35435/35435 - 88s - loss: 0.1054 - sparse_categorical_accuracy: 0.9693 - val_loss: 0.0450 - val_sparse_categorical_accuracy: 0.9881\n",
      "Epoch 28/50\n",
      "35435/35435 - 88s - loss: 0.1053 - sparse_categorical_accuracy: 0.9693 - val_loss: 0.0455 - val_sparse_categorical_accuracy: 0.9879\n",
      "Epoch 29/50\n",
      "35435/35435 - 88s - loss: 0.1052 - sparse_categorical_accuracy: 0.9693 - val_loss: 0.0454 - val_sparse_categorical_accuracy: 0.9880\n",
      "Epoch 30/50\n",
      "35435/35435 - 88s - loss: 0.1048 - sparse_categorical_accuracy: 0.9695 - val_loss: 0.0457 - val_sparse_categorical_accuracy: 0.9879\n",
      "Epoch 31/50\n",
      "35435/35435 - 88s - loss: 0.1053 - sparse_categorical_accuracy: 0.9693 - val_loss: 0.0395 - val_sparse_categorical_accuracy: 0.9900\n",
      "Epoch 32/50\n",
      "35435/35435 - 88s - loss: 0.1051 - sparse_categorical_accuracy: 0.9693 - val_loss: 0.0423 - val_sparse_categorical_accuracy: 0.9880\n",
      "Epoch 33/50\n",
      "35435/35435 - 88s - loss: 0.1051 - sparse_categorical_accuracy: 0.9694 - val_loss: 0.0431 - val_sparse_categorical_accuracy: 0.9880\n",
      "Epoch 34/50\n",
      "35435/35435 - 88s - loss: 0.1052 - sparse_categorical_accuracy: 0.9693 - val_loss: 0.0405 - val_sparse_categorical_accuracy: 0.9900\n",
      "Epoch 35/50\n",
      "35435/35435 - 88s - loss: 0.1049 - sparse_categorical_accuracy: 0.9694 - val_loss: 0.0438 - val_sparse_categorical_accuracy: 0.9880\n",
      "Epoch 36/50\n",
      "35435/35435 - 88s - loss: 0.1050 - sparse_categorical_accuracy: 0.9693 - val_loss: 0.0428 - val_sparse_categorical_accuracy: 0.9879\n",
      "Epoch 37/50\n",
      "35435/35435 - 88s - loss: 0.1047 - sparse_categorical_accuracy: 0.9694 - val_loss: 0.0397 - val_sparse_categorical_accuracy: 0.9897\n",
      "Epoch 38/50\n",
      "35435/35435 - 88s - loss: 0.1050 - sparse_categorical_accuracy: 0.9695 - val_loss: 0.0430 - val_sparse_categorical_accuracy: 0.9881\n",
      "Epoch 39/50\n",
      "35435/35435 - 88s - loss: 0.1050 - sparse_categorical_accuracy: 0.9695 - val_loss: 0.0415 - val_sparse_categorical_accuracy: 0.9880\n",
      "Epoch 40/50\n",
      "35435/35435 - 88s - loss: 0.1048 - sparse_categorical_accuracy: 0.9694 - val_loss: 0.0399 - val_sparse_categorical_accuracy: 0.9898\n",
      "Epoch 41/50\n",
      "35435/35435 - 89s - loss: 0.1052 - sparse_categorical_accuracy: 0.9693 - val_loss: 0.0412 - val_sparse_categorical_accuracy: 0.9899\n",
      "Epoch 42/50\n",
      "35435/35435 - 88s - loss: 0.1055 - sparse_categorical_accuracy: 0.9694 - val_loss: 0.0407 - val_sparse_categorical_accuracy: 0.9904\n",
      "Epoch 43/50\n",
      "35435/35435 - 88s - loss: 0.1056 - sparse_categorical_accuracy: 0.9693 - val_loss: 0.0451 - val_sparse_categorical_accuracy: 0.9880\n",
      "Epoch 44/50\n",
      "35435/35435 - 88s - loss: 0.1050 - sparse_categorical_accuracy: 0.9694 - val_loss: 0.0469 - val_sparse_categorical_accuracy: 0.9882\n",
      "Epoch 45/50\n",
      "35435/35435 - 88s - loss: 0.1052 - sparse_categorical_accuracy: 0.9694 - val_loss: 0.0395 - val_sparse_categorical_accuracy: 0.9901\n",
      "Epoch 46/50\n",
      "35435/35435 - 88s - loss: 0.1046 - sparse_categorical_accuracy: 0.9695 - val_loss: 0.0442 - val_sparse_categorical_accuracy: 0.9881\n",
      "Epoch 47/50\n",
      "35435/35435 - 88s - loss: 0.1050 - sparse_categorical_accuracy: 0.9695 - val_loss: 0.0413 - val_sparse_categorical_accuracy: 0.9878\n",
      "Epoch 48/50\n",
      "35435/35435 - 88s - loss: 0.1044 - sparse_categorical_accuracy: 0.9697 - val_loss: 0.0408 - val_sparse_categorical_accuracy: 0.9905\n",
      "Epoch 49/50\n",
      "35435/35435 - 88s - loss: 0.1046 - sparse_categorical_accuracy: 0.9696 - val_loss: 0.0375 - val_sparse_categorical_accuracy: 0.9900\n",
      "Epoch 50/50\n",
      "35435/35435 - 88s - loss: 0.1046 - sparse_categorical_accuracy: 0.9696 - val_loss: 0.0396 - val_sparse_categorical_accuracy: 0.9902\n"
     ]
    }
   ],
   "source": [
    "#fit training model\n",
    "history = model.fit(\n",
    "    x_train,\n",
    "    y_train,\n",
    "    batch_size=128,\n",
    "    epochs=50,\n",
    "    verbose=2,\n",
    "    # We pass some validation for\n",
    "    # monitoring validation loss and metrics\n",
    "    # at the end of each epoch\n",
    "    validation_data=(x_val, y_val),\n",
    ")\n"
   ]
  },
  {
   "cell_type": "markdown",
   "metadata": {},
   "source": [
    "## Evaluate the Model"
   ]
  },
  {
   "cell_type": "code",
   "execution_count": 11,
   "metadata": {},
   "outputs": [
    {
     "name": "stdout",
     "output_type": "stream",
     "text": [
      "Evaluate on test data\n"
     ]
    },
    {
     "name": "stdout",
     "output_type": "stream",
     "text": [
      " 6089/47247 [==>...........................] - ETA: 24:34 - loss: 0.1016 - sparse_categorical_accuracy: 0.96 - ETA: 1:08 - loss: 0.0517 - sparse_categorical_accuracy: 0.9852 - ETA: 1:02 - loss: 0.0427 - sparse_categorical_accuracy: 0.988 - ETA: 1:00 - loss: 0.0396 - sparse_categorical_accuracy: 0.989 - ETA: 58s - loss: 0.0396 - sparse_categorical_accuracy: 0.989 - ETA: 58s - loss: 0.0395 - sparse_categorical_accuracy: 0.98 - ETA: 54s - loss: 0.0420 - sparse_categorical_accuracy: 0.98 - ETA: 51s - loss: 0.0427 - sparse_categorical_accuracy: 0.98 - ETA: 49s - loss: 0.0405 - sparse_categorical_accuracy: 0.98 - ETA: 47s - loss: 0.0386 - sparse_categorical_accuracy: 0.99 - ETA: 46s - loss: 0.0390 - sparse_categorical_accuracy: 0.99 - ETA: 45s - loss: 0.0392 - sparse_categorical_accuracy: 0.99 - ETA: 45s - loss: 0.0401 - sparse_categorical_accuracy: 0.99 - ETA: 45s - loss: 0.0403 - sparse_categorical_accuracy: 0.99 - ETA: 45s - loss: 0.0401 - sparse_categorical_accuracy: 0.99 - ETA: 44s - loss: 0.0401 - sparse_categorical_accuracy: 0.99 - ETA: 44s - loss: 0.0394 - sparse_categorical_accuracy: 0.99 - ETA: 43s - loss: 0.0397 - sparse_categorical_accuracy: 0.99 - ETA: 43s - loss: 0.0399 - sparse_categorical_accuracy: 0.99 - ETA: 43s - loss: 0.0398 - sparse_categorical_accuracy: 0.99 - ETA: 43s - loss: 0.0399 - sparse_categorical_accuracy: 0.99 - ETA: 44s - loss: 0.0395 - sparse_categorical_accuracy: 0.99 - ETA: 44s - loss: 0.0402 - sparse_categorical_accuracy: 0.99 - ETA: 45s - loss: 0.0401 - sparse_categorical_accuracy: 0.99 - ETA: 45s - loss: 0.0401 - sparse_categorical_accuracy: 0.99 - ETA: 45s - loss: 0.0402 - sparse_categorical_accuracy: 0.99 - ETA: 45s - loss: 0.0404 - sparse_categorical_accuracy: 0.99 - ETA: 45s - loss: 0.0407 - sparse_categorical_accuracy: 0.99 - ETA: 44s - loss: 0.0408 - sparse_categorical_accuracy: 0.99 - ETA: 44s - loss: 0.0407 - sparse_categorical_accuracy: 0.99 - ETA: 44s - loss: 0.0409 - sparse_categorical_accuracy: 0.99 - ETA: 45s - loss: 0.0408 - sparse_categorical_accuracy: 0.99 - ETA: 45s - loss: 0.0406 - sparse_categorical_accuracy: 0.99 - ETA: 45s - loss: 0.0410 - sparse_categorical_accuracy: 0.99 - ETA: 44s - loss: 0.0409 - sparse_categorical_accuracy: 0.99 - ETA: 45s - loss: 0.0409 - sparse_categorical_accuracy: 0.99 - ETA: 45s - loss: 0.0410 - sparse_categorical_accuracy: 0.99 - ETA: 45s - loss: 0.0414 - sparse_categorical_accuracy: 0.99 - ETA: 45s - loss: 0.0416 - sparse_categorical_accuracy: 0.98 - ETA: 45s - loss: 0.0417 - sparse_categorical_accuracy: 0.98 - ETA: 44s - loss: 0.0417 - sparse_categorical_accuracy: 0.98 - ETA: 44s - loss: 0.0424 - sparse_categorical_accuracy: 0.98 - ETA: 44s - loss: 0.0423 - sparse_categorical_accuracy: 0.98 - ETA: 44s - loss: 0.0424 - sparse_categorical_accuracy: 0.98 - ETA: 44s - loss: 0.0421 - sparse_categorical_accuracy: 0.98 - ETA: 45s - loss: 0.0418 - sparse_categorical_accuracy: 0.98 - ETA: 45s - loss: 0.0417 - sparse_categorical_accuracy: 0.98 - ETA: 44s - loss: 0.0419 - sparse_categorical_accuracy: 0.98 - ETA: 44s - loss: 0.0418 - sparse_categorical_accuracy: 0.98 - ETA: 44s - loss: 0.0418 - sparse_categorical_accuracy: 0.98 - ETA: 44s - loss: 0.0414 - sparse_categorical_accuracy: 0.98 - ETA: 44s - loss: 0.0416 - sparse_categorical_accuracy: 0.98 - ETA: 44s - loss: 0.0416 - sparse_categorical_accuracy: 0.98 - ETA: 44s - loss: 0.0414 - sparse_categorical_accuracy: 0.98 - ETA: 44s - loss: 0.0415 - sparse_categorical_accuracy: 0.98 - ETA: 44s - loss: 0.0415 - sparse_categorical_accuracy: 0.98 - ETA: 44s - loss: 0.0415 - sparse_categorical_accuracy: 0.98 - ETA: 44s - loss: 0.0416 - sparse_categorical_accuracy: 0.98 - ETA: 44s - loss: 0.0417 - sparse_categorical_accuracy: 0.98 - ETA: 44s - loss: 0.0416 - sparse_categorical_accuracy: 0.98 - ETA: 45s - loss: 0.0417 - sparse_categorical_accuracy: 0.98 - ETA: 45s - loss: 0.0418 - sparse_categorical_accuracy: 0.98 - ETA: 45s - loss: 0.0417 - sparse_categorical_accuracy: 0.98 - ETA: 45s - loss: 0.0415 - sparse_categorical_accuracy: 0.98 - ETA: 45s - loss: 0.0414 - sparse_categorical_accuracy: 0.98 - ETA: 45s - loss: 0.0413 - sparse_categorical_accuracy: 0.98 - ETA: 46s - loss: 0.0413 - sparse_categorical_accuracy: 0.98 - ETA: 46s - loss: 0.0414 - sparse_categorical_accuracy: 0.98 - ETA: 46s - loss: 0.0414 - sparse_categorical_accuracy: 0.98 - ETA: 46s - loss: 0.0415 - sparse_categorical_accuracy: 0.98 - ETA: 46s - loss: 0.0415 - sparse_categorical_accuracy: 0.98 - ETA: 46s - loss: 0.0413 - sparse_categorical_accuracy: 0.98 - ETA: 46s - loss: 0.0412 - sparse_categorical_accuracy: 0.98 - ETA: 45s - loss: 0.0412 - sparse_categorical_accuracy: 0.98 - ETA: 45s - loss: 0.0411 - sparse_categorical_accuracy: 0.98 - ETA: 45s - loss: 0.0410 - sparse_categorical_accuracy: 0.98 - ETA: 45s - loss: 0.0413 - sparse_categorical_accuracy: 0.98 - ETA: 45s - loss: 0.0412 - sparse_categorical_accuracy: 0.98 - ETA: 45s - loss: 0.0413 - sparse_categorical_accuracy: 0.98 - ETA: 45s - loss: 0.0412 - sparse_categorical_accuracy: 0.98 - ETA: 45s - loss: 0.0414 - sparse_categorical_accuracy: 0.98 - ETA: 45s - loss: 0.0415 - sparse_categorical_accuracy: 0.98 - ETA: 45s - loss: 0.0413 - sparse_categorical_accuracy: 0.99 - ETA: 45s - loss: 0.0414 - sparse_categorical_accuracy: 0.98 - ETA: 45s - loss: 0.0414 - sparse_categorical_accuracy: 0.98 - ETA: 45s - loss: 0.0413 - sparse_categorical_accuracy: 0.98 - ETA: 45s - loss: 0.0417 - sparse_categorical_accuracy: 0.98 - ETA: 45s - loss: 0.0415 - sparse_categorical_accuracy: 0.98 - ETA: 45s - loss: 0.0416 - sparse_categorical_accuracy: 0.98 - ETA: 45s - loss: 0.0416 - sparse_categorical_accuracy: 0.98 - ETA: 45s - loss: 0.0415 - sparse_categorical_accuracy: 0.98 - ETA: 45s - loss: 0.0414 - sparse_categorical_accuracy: 0.99 - ETA: 45s - loss: 0.0415 - sparse_categorical_accuracy: 0.99 - ETA: 45s - loss: 0.0414 - sparse_categorical_accuracy: 0.99 - ETA: 45s - loss: 0.0415 - sparse_categorical_accuracy: 0.99 - ETA: 45s - loss: 0.0415 - sparse_categorical_accuracy: 0.99 - ETA: 45s - loss: 0.0414 - sparse_categorical_accuracy: 0.99 - ETA: 45s - loss: 0.0416 - sparse_categorical_accuracy: 0.98 - ETA: 45s - loss: 0.0417 - sparse_categorical_accuracy: 0.98 - ETA: 45s - loss: 0.0417 - sparse_categorical_accuracy: 0.98 - ETA: 45s - loss: 0.0418 - sparse_categorical_accuracy: 0.98 - ETA: 45s - loss: 0.0419 - sparse_categorical_accuracy: 0.98 - ETA: 45s - loss: 0.0419 - sparse_categorical_accuracy: 0.98 - ETA: 45s - loss: 0.0418 - sparse_categorical_accuracy: 0.98 - ETA: 45s - loss: 0.0419 - sparse_categorical_accuracy: 0.98 - ETA: 45s - loss: 0.0419 - sparse_categorical_accuracy: 0.98 - ETA: 45s - loss: 0.0419 - sparse_categorical_accuracy: 0.98 - ETA: 45s - loss: 0.0417 - sparse_categorical_accuracy: 0.98 - ETA: 45s - loss: 0.0416 - sparse_categorical_accuracy: 0.98 - ETA: 45s - loss: 0.0416 - sparse_categorical_accuracy: 0.98 - ETA: 45s - loss: 0.0418 - sparse_categorical_accuracy: 0.98 - ETA: 45s - loss: 0.0419 - sparse_categorical_accuracy: 0.98 - ETA: 45s - loss: 0.0419 - sparse_categorical_accuracy: 0.98 - ETA: 44s - loss: 0.0419 - sparse_categorical_accuracy: 0.98 - ETA: 44s - loss: 0.0418 - sparse_categorical_accuracy: 0.98 - ETA: 44s - loss: 0.0418 - sparse_categorical_accuracy: 0.98 - ETA: 44s - loss: 0.0418 - sparse_categorical_accuracy: 0.98 - ETA: 44s - loss: 0.0416 - sparse_categorical_accuracy: 0.98 - ETA: 44s - loss: 0.0416 - sparse_categorical_accuracy: 0.98 - ETA: 44s - loss: 0.0416 - sparse_categorical_accuracy: 0.98 - ETA: 44s - loss: 0.0417 - sparse_categorical_accuracy: 0.98 - ETA: 44s - loss: 0.0418 - sparse_categorical_accuracy: 0.98 - ETA: 44s - loss: 0.0419 - sparse_categorical_accuracy: 0.98 - ETA: 44s - loss: 0.0420 - sparse_categorical_accuracy: 0.98 - ETA: 44s - loss: 0.0420 - sparse_categorical_accuracy: 0.98 - ETA: 44s - loss: 0.0419 - sparse_categorical_accuracy: 0.98 - ETA: 44s - loss: 0.0420 - sparse_categorical_accuracy: 0.98 - ETA: 44s - loss: 0.0418 - sparse_categorical_accuracy: 0.98 - ETA: 44s - loss: 0.0418 - sparse_categorical_accuracy: 0.98 - ETA: 44s - loss: 0.0419 - sparse_categorical_accuracy: 0.98 - ETA: 44s - loss: 0.0420 - sparse_categorical_accuracy: 0.9811896/47247 [======>.......................] - ETA: 44s - loss: 0.0420 - sparse_categorical_accuracy: 0.98 - ETA: 44s - loss: 0.0419 - sparse_categorical_accuracy: 0.98 - ETA: 44s - loss: 0.0420 - sparse_categorical_accuracy: 0.98 - ETA: 44s - loss: 0.0420 - sparse_categorical_accuracy: 0.98 - ETA: 44s - loss: 0.0420 - sparse_categorical_accuracy: 0.98 - ETA: 44s - loss: 0.0421 - sparse_categorical_accuracy: 0.98 - ETA: 44s - loss: 0.0423 - sparse_categorical_accuracy: 0.98 - ETA: 44s - loss: 0.0423 - sparse_categorical_accuracy: 0.98 - ETA: 44s - loss: 0.0422 - sparse_categorical_accuracy: 0.98 - ETA: 44s - loss: 0.0422 - sparse_categorical_accuracy: 0.98 - ETA: 44s - loss: 0.0421 - sparse_categorical_accuracy: 0.98 - ETA: 44s - loss: 0.0420 - sparse_categorical_accuracy: 0.98 - ETA: 44s - loss: 0.0420 - sparse_categorical_accuracy: 0.98 - ETA: 44s - loss: 0.0420 - sparse_categorical_accuracy: 0.98 - ETA: 44s - loss: 0.0419 - sparse_categorical_accuracy: 0.98 - ETA: 44s - loss: 0.0418 - sparse_categorical_accuracy: 0.98 - ETA: 44s - loss: 0.0418 - sparse_categorical_accuracy: 0.98 - ETA: 43s - loss: 0.0419 - sparse_categorical_accuracy: 0.98 - ETA: 43s - loss: 0.0419 - sparse_categorical_accuracy: 0.98 - ETA: 43s - loss: 0.0418 - sparse_categorical_accuracy: 0.98 - ETA: 43s - loss: 0.0419 - sparse_categorical_accuracy: 0.98 - ETA: 43s - loss: 0.0419 - sparse_categorical_accuracy: 0.98 - ETA: 43s - loss: 0.0419 - sparse_categorical_accuracy: 0.98 - ETA: 43s - loss: 0.0418 - sparse_categorical_accuracy: 0.98 - ETA: 43s - loss: 0.0419 - sparse_categorical_accuracy: 0.98 - ETA: 43s - loss: 0.0419 - sparse_categorical_accuracy: 0.98 - ETA: 43s - loss: 0.0419 - sparse_categorical_accuracy: 0.98 - ETA: 43s - loss: 0.0419 - sparse_categorical_accuracy: 0.98 - ETA: 43s - loss: 0.0419 - sparse_categorical_accuracy: 0.98 - ETA: 44s - loss: 0.0419 - sparse_categorical_accuracy: 0.98 - ETA: 44s - loss: 0.0418 - sparse_categorical_accuracy: 0.98 - ETA: 44s - loss: 0.0419 - sparse_categorical_accuracy: 0.98 - ETA: 44s - loss: 0.0418 - sparse_categorical_accuracy: 0.98 - ETA: 43s - loss: 0.0418 - sparse_categorical_accuracy: 0.98 - ETA: 43s - loss: 0.0417 - sparse_categorical_accuracy: 0.98 - ETA: 43s - loss: 0.0417 - sparse_categorical_accuracy: 0.98 - ETA: 43s - loss: 0.0417 - sparse_categorical_accuracy: 0.98 - ETA: 43s - loss: 0.0417 - sparse_categorical_accuracy: 0.98 - ETA: 43s - loss: 0.0417 - sparse_categorical_accuracy: 0.98 - ETA: 43s - loss: 0.0418 - sparse_categorical_accuracy: 0.98 - ETA: 43s - loss: 0.0417 - sparse_categorical_accuracy: 0.98 - ETA: 43s - loss: 0.0419 - sparse_categorical_accuracy: 0.98 - ETA: 43s - loss: 0.0418 - sparse_categorical_accuracy: 0.98 - ETA: 43s - loss: 0.0419 - sparse_categorical_accuracy: 0.98 - ETA: 43s - loss: 0.0418 - sparse_categorical_accuracy: 0.98 - ETA: 43s - loss: 0.0417 - sparse_categorical_accuracy: 0.98 - ETA: 43s - loss: 0.0417 - sparse_categorical_accuracy: 0.98 - ETA: 43s - loss: 0.0418 - sparse_categorical_accuracy: 0.98 - ETA: 43s - loss: 0.0417 - sparse_categorical_accuracy: 0.98 - ETA: 43s - loss: 0.0416 - sparse_categorical_accuracy: 0.98 - ETA: 42s - loss: 0.0416 - sparse_categorical_accuracy: 0.98 - ETA: 42s - loss: 0.0417 - sparse_categorical_accuracy: 0.98 - ETA: 42s - loss: 0.0416 - sparse_categorical_accuracy: 0.98 - ETA: 42s - loss: 0.0417 - sparse_categorical_accuracy: 0.98 - ETA: 42s - loss: 0.0416 - sparse_categorical_accuracy: 0.98 - ETA: 42s - loss: 0.0415 - sparse_categorical_accuracy: 0.98 - ETA: 42s - loss: 0.0415 - sparse_categorical_accuracy: 0.98 - ETA: 42s - loss: 0.0416 - sparse_categorical_accuracy: 0.98 - ETA: 42s - loss: 0.0416 - sparse_categorical_accuracy: 0.98 - ETA: 42s - loss: 0.0415 - sparse_categorical_accuracy: 0.98 - ETA: 42s - loss: 0.0415 - sparse_categorical_accuracy: 0.98 - ETA: 42s - loss: 0.0414 - sparse_categorical_accuracy: 0.98 - ETA: 42s - loss: 0.0414 - sparse_categorical_accuracy: 0.98 - ETA: 42s - loss: 0.0414 - sparse_categorical_accuracy: 0.98 - ETA: 42s - loss: 0.0414 - sparse_categorical_accuracy: 0.98 - ETA: 42s - loss: 0.0413 - sparse_categorical_accuracy: 0.98 - ETA: 42s - loss: 0.0414 - sparse_categorical_accuracy: 0.98 - ETA: 42s - loss: 0.0414 - sparse_categorical_accuracy: 0.99 - ETA: 42s - loss: 0.0413 - sparse_categorical_accuracy: 0.99 - ETA: 42s - loss: 0.0413 - sparse_categorical_accuracy: 0.98 - ETA: 42s - loss: 0.0414 - sparse_categorical_accuracy: 0.98 - ETA: 42s - loss: 0.0414 - sparse_categorical_accuracy: 0.98 - ETA: 42s - loss: 0.0414 - sparse_categorical_accuracy: 0.98 - ETA: 42s - loss: 0.0414 - sparse_categorical_accuracy: 0.98 - ETA: 42s - loss: 0.0413 - sparse_categorical_accuracy: 0.98 - ETA: 42s - loss: 0.0413 - sparse_categorical_accuracy: 0.98 - ETA: 42s - loss: 0.0413 - sparse_categorical_accuracy: 0.98 - ETA: 42s - loss: 0.0414 - sparse_categorical_accuracy: 0.98 - ETA: 42s - loss: 0.0414 - sparse_categorical_accuracy: 0.98 - ETA: 42s - loss: 0.0414 - sparse_categorical_accuracy: 0.98 - ETA: 41s - loss: 0.0414 - sparse_categorical_accuracy: 0.98 - ETA: 41s - loss: 0.0414 - sparse_categorical_accuracy: 0.98 - ETA: 41s - loss: 0.0414 - sparse_categorical_accuracy: 0.98 - ETA: 41s - loss: 0.0414 - sparse_categorical_accuracy: 0.98 - ETA: 41s - loss: 0.0414 - sparse_categorical_accuracy: 0.98 - ETA: 41s - loss: 0.0413 - sparse_categorical_accuracy: 0.98 - ETA: 41s - loss: 0.0414 - sparse_categorical_accuracy: 0.98 - ETA: 41s - loss: 0.0413 - sparse_categorical_accuracy: 0.98 - ETA: 41s - loss: 0.0414 - sparse_categorical_accuracy: 0.98 - ETA: 41s - loss: 0.0414 - sparse_categorical_accuracy: 0.98 - ETA: 41s - loss: 0.0413 - sparse_categorical_accuracy: 0.98 - ETA: 41s - loss: 0.0412 - sparse_categorical_accuracy: 0.98 - ETA: 41s - loss: 0.0412 - sparse_categorical_accuracy: 0.98 - ETA: 41s - loss: 0.0412 - sparse_categorical_accuracy: 0.98 - ETA: 40s - loss: 0.0412 - sparse_categorical_accuracy: 0.98 - ETA: 40s - loss: 0.0412 - sparse_categorical_accuracy: 0.98 - ETA: 40s - loss: 0.0412 - sparse_categorical_accuracy: 0.98 - ETA: 40s - loss: 0.0413 - sparse_categorical_accuracy: 0.98 - ETA: 40s - loss: 0.0413 - sparse_categorical_accuracy: 0.98 - ETA: 40s - loss: 0.0413 - sparse_categorical_accuracy: 0.98 - ETA: 40s - loss: 0.0412 - sparse_categorical_accuracy: 0.98 - ETA: 40s - loss: 0.0412 - sparse_categorical_accuracy: 0.98 - ETA: 40s - loss: 0.0412 - sparse_categorical_accuracy: 0.98 - ETA: 40s - loss: 0.0412 - sparse_categorical_accuracy: 0.98 - ETA: 40s - loss: 0.0412 - sparse_categorical_accuracy: 0.98 - ETA: 40s - loss: 0.0412 - sparse_categorical_accuracy: 0.98 - ETA: 40s - loss: 0.0412 - sparse_categorical_accuracy: 0.98 - ETA: 40s - loss: 0.0412 - sparse_categorical_accuracy: 0.98 - ETA: 40s - loss: 0.0412 - sparse_categorical_accuracy: 0.98 - ETA: 40s - loss: 0.0412 - sparse_categorical_accuracy: 0.98 - ETA: 40s - loss: 0.0412 - sparse_categorical_accuracy: 0.98 - ETA: 40s - loss: 0.0411 - sparse_categorical_accuracy: 0.98 - ETA: 40s - loss: 0.0411 - sparse_categorical_accuracy: 0.98 - ETA: 39s - loss: 0.0411 - sparse_categorical_accuracy: 0.98 - ETA: 39s - loss: 0.0411 - sparse_categorical_accuracy: 0.98 - ETA: 39s - loss: 0.0411 - sparse_categorical_accuracy: 0.98 - ETA: 39s - loss: 0.0411 - sparse_categorical_accuracy: 0.98 - ETA: 39s - loss: 0.0411 - sparse_categorical_accuracy: 0.98 - ETA: 39s - loss: 0.0411 - sparse_categorical_accuracy: 0.98 - ETA: 39s - loss: 0.0410 - sparse_categorical_accuracy: 0.99 - ETA: 39s - loss: 0.0410 - sparse_categorical_accuracy: 0.98 - ETA: 39s - loss: 0.0410 - sparse_categorical_accuracy: 0.98 - ETA: 39s - loss: 0.0410 - sparse_categorical_accuracy: 0.98 - ETA: 39s - loss: 0.0411 - sparse_categorical_accuracy: 0.98 - ETA: 39s - loss: 0.0410 - sparse_categorical_accuracy: 0.98 - ETA: 39s - loss: 0.0411 - sparse_categorical_accuracy: 0.98 - ETA: 39s - loss: 0.0411 - sparse_categorical_accuracy: 0.98 - ETA: 39s - loss: 0.0411 - sparse_categorical_accuracy: 0.98 - ETA: 39s - loss: 0.0411 - sparse_categorical_accuracy: 0.98 - ETA: 39s - loss: 0.0410 - sparse_categorical_accuracy: 0.98 - ETA: 39s - loss: 0.0410 - sparse_categorical_accuracy: 0.98 - ETA: 39s - loss: 0.0409 - sparse_categorical_accuracy: 0.989919679/47247 [===========>..................] - ETA: 39s - loss: 0.0409 - sparse_categorical_accuracy: 0.98 - ETA: 39s - loss: 0.0409 - sparse_categorical_accuracy: 0.98 - ETA: 39s - loss: 0.0409 - sparse_categorical_accuracy: 0.98 - ETA: 39s - loss: 0.0409 - sparse_categorical_accuracy: 0.98 - ETA: 39s - loss: 0.0409 - sparse_categorical_accuracy: 0.98 - ETA: 39s - loss: 0.0409 - sparse_categorical_accuracy: 0.98 - ETA: 38s - loss: 0.0408 - sparse_categorical_accuracy: 0.98 - ETA: 38s - loss: 0.0408 - sparse_categorical_accuracy: 0.98 - ETA: 38s - loss: 0.0408 - sparse_categorical_accuracy: 0.98 - ETA: 38s - loss: 0.0408 - sparse_categorical_accuracy: 0.98 - ETA: 38s - loss: 0.0408 - sparse_categorical_accuracy: 0.98 - ETA: 38s - loss: 0.0407 - sparse_categorical_accuracy: 0.99 - ETA: 38s - loss: 0.0407 - sparse_categorical_accuracy: 0.99 - ETA: 38s - loss: 0.0407 - sparse_categorical_accuracy: 0.99 - ETA: 38s - loss: 0.0408 - sparse_categorical_accuracy: 0.99 - ETA: 38s - loss: 0.0407 - sparse_categorical_accuracy: 0.98 - ETA: 38s - loss: 0.0407 - sparse_categorical_accuracy: 0.99 - ETA: 38s - loss: 0.0407 - sparse_categorical_accuracy: 0.99 - ETA: 37s - loss: 0.0407 - sparse_categorical_accuracy: 0.99 - ETA: 37s - loss: 0.0407 - sparse_categorical_accuracy: 0.99 - ETA: 37s - loss: 0.0407 - sparse_categorical_accuracy: 0.99 - ETA: 37s - loss: 0.0407 - sparse_categorical_accuracy: 0.99 - ETA: 37s - loss: 0.0407 - sparse_categorical_accuracy: 0.98 - ETA: 37s - loss: 0.0407 - sparse_categorical_accuracy: 0.98 - ETA: 37s - loss: 0.0407 - sparse_categorical_accuracy: 0.98 - ETA: 37s - loss: 0.0407 - sparse_categorical_accuracy: 0.98 - ETA: 37s - loss: 0.0407 - sparse_categorical_accuracy: 0.98 - ETA: 37s - loss: 0.0407 - sparse_categorical_accuracy: 0.98 - ETA: 37s - loss: 0.0407 - sparse_categorical_accuracy: 0.98 - ETA: 37s - loss: 0.0407 - sparse_categorical_accuracy: 0.98 - ETA: 36s - loss: 0.0407 - sparse_categorical_accuracy: 0.98 - ETA: 36s - loss: 0.0407 - sparse_categorical_accuracy: 0.98 - ETA: 36s - loss: 0.0408 - sparse_categorical_accuracy: 0.98 - ETA: 36s - loss: 0.0408 - sparse_categorical_accuracy: 0.98 - ETA: 36s - loss: 0.0408 - sparse_categorical_accuracy: 0.98 - ETA: 36s - loss: 0.0408 - sparse_categorical_accuracy: 0.98 - ETA: 36s - loss: 0.0408 - sparse_categorical_accuracy: 0.98 - ETA: 36s - loss: 0.0407 - sparse_categorical_accuracy: 0.98 - ETA: 36s - loss: 0.0407 - sparse_categorical_accuracy: 0.98 - ETA: 36s - loss: 0.0407 - sparse_categorical_accuracy: 0.98 - ETA: 35s - loss: 0.0407 - sparse_categorical_accuracy: 0.98 - ETA: 35s - loss: 0.0407 - sparse_categorical_accuracy: 0.98 - ETA: 35s - loss: 0.0408 - sparse_categorical_accuracy: 0.98 - ETA: 35s - loss: 0.0408 - sparse_categorical_accuracy: 0.98 - ETA: 35s - loss: 0.0408 - sparse_categorical_accuracy: 0.98 - ETA: 35s - loss: 0.0408 - sparse_categorical_accuracy: 0.98 - ETA: 35s - loss: 0.0408 - sparse_categorical_accuracy: 0.98 - ETA: 35s - loss: 0.0408 - sparse_categorical_accuracy: 0.98 - ETA: 35s - loss: 0.0408 - sparse_categorical_accuracy: 0.98 - ETA: 35s - loss: 0.0408 - sparse_categorical_accuracy: 0.98 - ETA: 35s - loss: 0.0408 - sparse_categorical_accuracy: 0.98 - ETA: 35s - loss: 0.0408 - sparse_categorical_accuracy: 0.98 - ETA: 34s - loss: 0.0408 - sparse_categorical_accuracy: 0.98 - ETA: 34s - loss: 0.0408 - sparse_categorical_accuracy: 0.98 - ETA: 34s - loss: 0.0407 - sparse_categorical_accuracy: 0.98 - ETA: 34s - loss: 0.0408 - sparse_categorical_accuracy: 0.98 - ETA: 34s - loss: 0.0407 - sparse_categorical_accuracy: 0.98 - ETA: 34s - loss: 0.0407 - sparse_categorical_accuracy: 0.98 - ETA: 34s - loss: 0.0408 - sparse_categorical_accuracy: 0.98 - ETA: 34s - loss: 0.0408 - sparse_categorical_accuracy: 0.98 - ETA: 34s - loss: 0.0407 - sparse_categorical_accuracy: 0.98 - ETA: 34s - loss: 0.0407 - sparse_categorical_accuracy: 0.98 - ETA: 34s - loss: 0.0407 - sparse_categorical_accuracy: 0.98 - ETA: 34s - loss: 0.0407 - sparse_categorical_accuracy: 0.98 - ETA: 33s - loss: 0.0407 - sparse_categorical_accuracy: 0.98 - ETA: 33s - loss: 0.0408 - sparse_categorical_accuracy: 0.98 - ETA: 33s - loss: 0.0408 - sparse_categorical_accuracy: 0.98 - ETA: 33s - loss: 0.0408 - sparse_categorical_accuracy: 0.98 - ETA: 33s - loss: 0.0408 - sparse_categorical_accuracy: 0.98 - ETA: 33s - loss: 0.0408 - sparse_categorical_accuracy: 0.98 - ETA: 33s - loss: 0.0408 - sparse_categorical_accuracy: 0.98 - ETA: 33s - loss: 0.0407 - sparse_categorical_accuracy: 0.98 - ETA: 33s - loss: 0.0408 - sparse_categorical_accuracy: 0.98 - ETA: 33s - loss: 0.0408 - sparse_categorical_accuracy: 0.98 - ETA: 33s - loss: 0.0408 - sparse_categorical_accuracy: 0.98 - ETA: 32s - loss: 0.0408 - sparse_categorical_accuracy: 0.98 - ETA: 32s - loss: 0.0408 - sparse_categorical_accuracy: 0.98 - ETA: 32s - loss: 0.0408 - sparse_categorical_accuracy: 0.98 - ETA: 32s - loss: 0.0408 - sparse_categorical_accuracy: 0.98 - ETA: 32s - loss: 0.0408 - sparse_categorical_accuracy: 0.98 - ETA: 32s - loss: 0.0408 - sparse_categorical_accuracy: 0.98 - ETA: 32s - loss: 0.0408 - sparse_categorical_accuracy: 0.98 - ETA: 32s - loss: 0.0409 - sparse_categorical_accuracy: 0.98 - ETA: 32s - loss: 0.0408 - sparse_categorical_accuracy: 0.98 - ETA: 32s - loss: 0.0408 - sparse_categorical_accuracy: 0.98 - ETA: 32s - loss: 0.0408 - sparse_categorical_accuracy: 0.98 - ETA: 32s - loss: 0.0407 - sparse_categorical_accuracy: 0.98 - ETA: 31s - loss: 0.0407 - sparse_categorical_accuracy: 0.98 - ETA: 31s - loss: 0.0408 - sparse_categorical_accuracy: 0.98 - ETA: 31s - loss: 0.0408 - sparse_categorical_accuracy: 0.98 - ETA: 31s - loss: 0.0407 - sparse_categorical_accuracy: 0.98 - ETA: 31s - loss: 0.0407 - sparse_categorical_accuracy: 0.98 - ETA: 31s - loss: 0.0407 - sparse_categorical_accuracy: 0.98 - ETA: 31s - loss: 0.0407 - sparse_categorical_accuracy: 0.98 - ETA: 31s - loss: 0.0407 - sparse_categorical_accuracy: 0.98 - ETA: 31s - loss: 0.0407 - sparse_categorical_accuracy: 0.98 - ETA: 31s - loss: 0.0407 - sparse_categorical_accuracy: 0.98 - ETA: 31s - loss: 0.0406 - sparse_categorical_accuracy: 0.98 - ETA: 30s - loss: 0.0406 - sparse_categorical_accuracy: 0.98 - ETA: 30s - loss: 0.0407 - sparse_categorical_accuracy: 0.98 - ETA: 30s - loss: 0.0407 - sparse_categorical_accuracy: 0.98 - ETA: 30s - loss: 0.0406 - sparse_categorical_accuracy: 0.98 - ETA: 30s - loss: 0.0406 - sparse_categorical_accuracy: 0.98 - ETA: 30s - loss: 0.0406 - sparse_categorical_accuracy: 0.98 - ETA: 30s - loss: 0.0407 - sparse_categorical_accuracy: 0.98 - ETA: 30s - loss: 0.0407 - sparse_categorical_accuracy: 0.98 - ETA: 30s - loss: 0.0407 - sparse_categorical_accuracy: 0.98 - ETA: 30s - loss: 0.0407 - sparse_categorical_accuracy: 0.98 - ETA: 30s - loss: 0.0407 - sparse_categorical_accuracy: 0.98 - ETA: 29s - loss: 0.0406 - sparse_categorical_accuracy: 0.98 - ETA: 29s - loss: 0.0406 - sparse_categorical_accuracy: 0.98 - ETA: 29s - loss: 0.0406 - sparse_categorical_accuracy: 0.98 - ETA: 29s - loss: 0.0406 - sparse_categorical_accuracy: 0.98 - ETA: 29s - loss: 0.0406 - sparse_categorical_accuracy: 0.98 - ETA: 29s - loss: 0.0406 - sparse_categorical_accuracy: 0.98 - ETA: 29s - loss: 0.0406 - sparse_categorical_accuracy: 0.98 - ETA: 29s - loss: 0.0405 - sparse_categorical_accuracy: 0.98 - ETA: 29s - loss: 0.0405 - sparse_categorical_accuracy: 0.99 - ETA: 29s - loss: 0.0405 - sparse_categorical_accuracy: 0.99 - ETA: 28s - loss: 0.0405 - sparse_categorical_accuracy: 0.99 - ETA: 28s - loss: 0.0404 - sparse_categorical_accuracy: 0.99 - ETA: 28s - loss: 0.0404 - sparse_categorical_accuracy: 0.99 - ETA: 28s - loss: 0.0405 - sparse_categorical_accuracy: 0.99 - ETA: 28s - loss: 0.0405 - sparse_categorical_accuracy: 0.99 - ETA: 28s - loss: 0.0405 - sparse_categorical_accuracy: 0.99 - ETA: 28s - loss: 0.0404 - sparse_categorical_accuracy: 0.99 - ETA: 28s - loss: 0.0405 - sparse_categorical_accuracy: 0.99 - ETA: 28s - loss: 0.0405 - sparse_categorical_accuracy: 0.99 - ETA: 28s - loss: 0.0405 - sparse_categorical_accuracy: 0.99 - ETA: 28s - loss: 0.0405 - sparse_categorical_accuracy: 0.99 - ETA: 28s - loss: 0.0406 - sparse_categorical_accuracy: 0.99 - ETA: 27s - loss: 0.0406 - sparse_categorical_accuracy: 0.9899"
     ]
    },
    {
     "name": "stdout",
     "output_type": "stream",
     "text": [
      "27684/47247 [================>.............] - ETA: 27s - loss: 0.0406 - sparse_categorical_accuracy: 0.99 - ETA: 27s - loss: 0.0405 - sparse_categorical_accuracy: 0.99 - ETA: 27s - loss: 0.0405 - sparse_categorical_accuracy: 0.99 - ETA: 27s - loss: 0.0405 - sparse_categorical_accuracy: 0.99 - ETA: 27s - loss: 0.0406 - sparse_categorical_accuracy: 0.99 - ETA: 27s - loss: 0.0406 - sparse_categorical_accuracy: 0.98 - ETA: 27s - loss: 0.0406 - sparse_categorical_accuracy: 0.98 - ETA: 27s - loss: 0.0406 - sparse_categorical_accuracy: 0.98 - ETA: 27s - loss: 0.0406 - sparse_categorical_accuracy: 0.98 - ETA: 27s - loss: 0.0406 - sparse_categorical_accuracy: 0.98 - ETA: 27s - loss: 0.0406 - sparse_categorical_accuracy: 0.98 - ETA: 26s - loss: 0.0406 - sparse_categorical_accuracy: 0.98 - ETA: 26s - loss: 0.0406 - sparse_categorical_accuracy: 0.98 - ETA: 26s - loss: 0.0406 - sparse_categorical_accuracy: 0.98 - ETA: 26s - loss: 0.0406 - sparse_categorical_accuracy: 0.98 - ETA: 26s - loss: 0.0405 - sparse_categorical_accuracy: 0.98 - ETA: 26s - loss: 0.0405 - sparse_categorical_accuracy: 0.98 - ETA: 26s - loss: 0.0405 - sparse_categorical_accuracy: 0.99 - ETA: 26s - loss: 0.0405 - sparse_categorical_accuracy: 0.99 - ETA: 26s - loss: 0.0405 - sparse_categorical_accuracy: 0.99 - ETA: 26s - loss: 0.0404 - sparse_categorical_accuracy: 0.99 - ETA: 26s - loss: 0.0404 - sparse_categorical_accuracy: 0.99 - ETA: 26s - loss: 0.0404 - sparse_categorical_accuracy: 0.99 - ETA: 25s - loss: 0.0404 - sparse_categorical_accuracy: 0.99 - ETA: 25s - loss: 0.0404 - sparse_categorical_accuracy: 0.99 - ETA: 25s - loss: 0.0404 - sparse_categorical_accuracy: 0.99 - ETA: 25s - loss: 0.0404 - sparse_categorical_accuracy: 0.99 - ETA: 25s - loss: 0.0404 - sparse_categorical_accuracy: 0.99 - ETA: 25s - loss: 0.0404 - sparse_categorical_accuracy: 0.99 - ETA: 25s - loss: 0.0404 - sparse_categorical_accuracy: 0.99 - ETA: 25s - loss: 0.0404 - sparse_categorical_accuracy: 0.99 - ETA: 25s - loss: 0.0404 - sparse_categorical_accuracy: 0.99 - ETA: 25s - loss: 0.0405 - sparse_categorical_accuracy: 0.99 - ETA: 25s - loss: 0.0405 - sparse_categorical_accuracy: 0.99 - ETA: 25s - loss: 0.0405 - sparse_categorical_accuracy: 0.99 - ETA: 25s - loss: 0.0405 - sparse_categorical_accuracy: 0.99 - ETA: 24s - loss: 0.0404 - sparse_categorical_accuracy: 0.99 - ETA: 24s - loss: 0.0404 - sparse_categorical_accuracy: 0.99 - ETA: 24s - loss: 0.0405 - sparse_categorical_accuracy: 0.99 - ETA: 24s - loss: 0.0404 - sparse_categorical_accuracy: 0.99 - ETA: 24s - loss: 0.0405 - sparse_categorical_accuracy: 0.99 - ETA: 24s - loss: 0.0404 - sparse_categorical_accuracy: 0.99 - ETA: 24s - loss: 0.0405 - sparse_categorical_accuracy: 0.99 - ETA: 24s - loss: 0.0405 - sparse_categorical_accuracy: 0.99 - ETA: 24s - loss: 0.0405 - sparse_categorical_accuracy: 0.99 - ETA: 24s - loss: 0.0405 - sparse_categorical_accuracy: 0.99 - ETA: 24s - loss: 0.0404 - sparse_categorical_accuracy: 0.99 - ETA: 24s - loss: 0.0404 - sparse_categorical_accuracy: 0.99 - ETA: 23s - loss: 0.0403 - sparse_categorical_accuracy: 0.99 - ETA: 23s - loss: 0.0404 - sparse_categorical_accuracy: 0.99 - ETA: 23s - loss: 0.0404 - sparse_categorical_accuracy: 0.99 - ETA: 23s - loss: 0.0404 - sparse_categorical_accuracy: 0.99 - ETA: 23s - loss: 0.0404 - sparse_categorical_accuracy: 0.99 - ETA: 23s - loss: 0.0404 - sparse_categorical_accuracy: 0.99 - ETA: 23s - loss: 0.0404 - sparse_categorical_accuracy: 0.99 - ETA: 23s - loss: 0.0404 - sparse_categorical_accuracy: 0.99 - ETA: 23s - loss: 0.0404 - sparse_categorical_accuracy: 0.99 - ETA: 23s - loss: 0.0404 - sparse_categorical_accuracy: 0.99 - ETA: 23s - loss: 0.0404 - sparse_categorical_accuracy: 0.99 - ETA: 23s - loss: 0.0404 - sparse_categorical_accuracy: 0.99 - ETA: 23s - loss: 0.0404 - sparse_categorical_accuracy: 0.99 - ETA: 23s - loss: 0.0404 - sparse_categorical_accuracy: 0.99 - ETA: 22s - loss: 0.0404 - sparse_categorical_accuracy: 0.99 - ETA: 22s - loss: 0.0404 - sparse_categorical_accuracy: 0.99 - ETA: 22s - loss: 0.0403 - sparse_categorical_accuracy: 0.99 - ETA: 22s - loss: 0.0403 - sparse_categorical_accuracy: 0.99 - ETA: 22s - loss: 0.0403 - sparse_categorical_accuracy: 0.99 - ETA: 22s - loss: 0.0403 - sparse_categorical_accuracy: 0.99 - ETA: 22s - loss: 0.0403 - sparse_categorical_accuracy: 0.99 - ETA: 22s - loss: 0.0402 - sparse_categorical_accuracy: 0.99 - ETA: 22s - loss: 0.0402 - sparse_categorical_accuracy: 0.99 - ETA: 22s - loss: 0.0402 - sparse_categorical_accuracy: 0.99 - ETA: 22s - loss: 0.0402 - sparse_categorical_accuracy: 0.99 - ETA: 22s - loss: 0.0402 - sparse_categorical_accuracy: 0.99 - ETA: 22s - loss: 0.0403 - sparse_categorical_accuracy: 0.99 - ETA: 21s - loss: 0.0402 - sparse_categorical_accuracy: 0.99 - ETA: 21s - loss: 0.0403 - sparse_categorical_accuracy: 0.99 - ETA: 21s - loss: 0.0403 - sparse_categorical_accuracy: 0.99 - ETA: 21s - loss: 0.0403 - sparse_categorical_accuracy: 0.99 - ETA: 21s - loss: 0.0403 - sparse_categorical_accuracy: 0.99 - ETA: 21s - loss: 0.0403 - sparse_categorical_accuracy: 0.99 - ETA: 21s - loss: 0.0402 - sparse_categorical_accuracy: 0.99 - ETA: 21s - loss: 0.0402 - sparse_categorical_accuracy: 0.99 - ETA: 21s - loss: 0.0403 - sparse_categorical_accuracy: 0.99 - ETA: 21s - loss: 0.0402 - sparse_categorical_accuracy: 0.99 - ETA: 21s - loss: 0.0402 - sparse_categorical_accuracy: 0.99 - ETA: 21s - loss: 0.0402 - sparse_categorical_accuracy: 0.99 - ETA: 21s - loss: 0.0403 - sparse_categorical_accuracy: 0.99 - ETA: 21s - loss: 0.0403 - sparse_categorical_accuracy: 0.99 - ETA: 21s - loss: 0.0403 - sparse_categorical_accuracy: 0.99 - ETA: 21s - loss: 0.0403 - sparse_categorical_accuracy: 0.99 - ETA: 21s - loss: 0.0403 - sparse_categorical_accuracy: 0.99 - ETA: 21s - loss: 0.0403 - sparse_categorical_accuracy: 0.99 - ETA: 21s - loss: 0.0402 - sparse_categorical_accuracy: 0.99 - ETA: 21s - loss: 0.0403 - sparse_categorical_accuracy: 0.99 - ETA: 20s - loss: 0.0402 - sparse_categorical_accuracy: 0.99 - ETA: 20s - loss: 0.0403 - sparse_categorical_accuracy: 0.99 - ETA: 20s - loss: 0.0403 - sparse_categorical_accuracy: 0.99 - ETA: 20s - loss: 0.0402 - sparse_categorical_accuracy: 0.99 - ETA: 20s - loss: 0.0402 - sparse_categorical_accuracy: 0.99 - ETA: 20s - loss: 0.0402 - sparse_categorical_accuracy: 0.99 - ETA: 20s - loss: 0.0402 - sparse_categorical_accuracy: 0.99 - ETA: 20s - loss: 0.0402 - sparse_categorical_accuracy: 0.99 - ETA: 20s - loss: 0.0402 - sparse_categorical_accuracy: 0.99 - ETA: 20s - loss: 0.0403 - sparse_categorical_accuracy: 0.99 - ETA: 20s - loss: 0.0402 - sparse_categorical_accuracy: 0.99 - ETA: 20s - loss: 0.0402 - sparse_categorical_accuracy: 0.99 - ETA: 20s - loss: 0.0402 - sparse_categorical_accuracy: 0.99 - ETA: 20s - loss: 0.0402 - sparse_categorical_accuracy: 0.99 - ETA: 20s - loss: 0.0402 - sparse_categorical_accuracy: 0.99 - ETA: 19s - loss: 0.0402 - sparse_categorical_accuracy: 0.99 - ETA: 19s - loss: 0.0402 - sparse_categorical_accuracy: 0.99 - ETA: 19s - loss: 0.0402 - sparse_categorical_accuracy: 0.99 - ETA: 19s - loss: 0.0402 - sparse_categorical_accuracy: 0.99 - ETA: 19s - loss: 0.0402 - sparse_categorical_accuracy: 0.99 - ETA: 19s - loss: 0.0402 - sparse_categorical_accuracy: 0.99 - ETA: 19s - loss: 0.0402 - sparse_categorical_accuracy: 0.99 - ETA: 19s - loss: 0.0402 - sparse_categorical_accuracy: 0.99 - ETA: 19s - loss: 0.0402 - sparse_categorical_accuracy: 0.99 - ETA: 19s - loss: 0.0402 - sparse_categorical_accuracy: 0.99 - ETA: 19s - loss: 0.0402 - sparse_categorical_accuracy: 0.99 - ETA: 19s - loss: 0.0401 - sparse_categorical_accuracy: 0.99 - ETA: 19s - loss: 0.0401 - sparse_categorical_accuracy: 0.99 - ETA: 19s - loss: 0.0402 - sparse_categorical_accuracy: 0.99 - ETA: 19s - loss: 0.0401 - sparse_categorical_accuracy: 0.99 - ETA: 19s - loss: 0.0402 - sparse_categorical_accuracy: 0.99 - ETA: 19s - loss: 0.0402 - sparse_categorical_accuracy: 0.99 - ETA: 19s - loss: 0.0401 - sparse_categorical_accuracy: 0.99 - ETA: 19s - loss: 0.0401 - sparse_categorical_accuracy: 0.99 - ETA: 18s - loss: 0.0401 - sparse_categorical_accuracy: 0.99 - ETA: 18s - loss: 0.0401 - sparse_categorical_accuracy: 0.99 - ETA: 18s - loss: 0.0401 - sparse_categorical_accuracy: 0.9900"
     ]
    },
    {
     "name": "stdout",
     "output_type": "stream",
     "text": [
      "35332/47247 [=====================>........] - ETA: 18s - loss: 0.0401 - sparse_categorical_accuracy: 0.99 - ETA: 18s - loss: 0.0401 - sparse_categorical_accuracy: 0.99 - ETA: 18s - loss: 0.0401 - sparse_categorical_accuracy: 0.99 - ETA: 18s - loss: 0.0401 - sparse_categorical_accuracy: 0.99 - ETA: 18s - loss: 0.0401 - sparse_categorical_accuracy: 0.99 - ETA: 18s - loss: 0.0401 - sparse_categorical_accuracy: 0.99 - ETA: 18s - loss: 0.0401 - sparse_categorical_accuracy: 0.99 - ETA: 18s - loss: 0.0401 - sparse_categorical_accuracy: 0.99 - ETA: 18s - loss: 0.0400 - sparse_categorical_accuracy: 0.99 - ETA: 18s - loss: 0.0400 - sparse_categorical_accuracy: 0.99 - ETA: 18s - loss: 0.0400 - sparse_categorical_accuracy: 0.99 - ETA: 17s - loss: 0.0400 - sparse_categorical_accuracy: 0.99 - ETA: 17s - loss: 0.0400 - sparse_categorical_accuracy: 0.99 - ETA: 17s - loss: 0.0400 - sparse_categorical_accuracy: 0.99 - ETA: 17s - loss: 0.0400 - sparse_categorical_accuracy: 0.99 - ETA: 17s - loss: 0.0400 - sparse_categorical_accuracy: 0.99 - ETA: 17s - loss: 0.0400 - sparse_categorical_accuracy: 0.99 - ETA: 17s - loss: 0.0400 - sparse_categorical_accuracy: 0.99 - ETA: 17s - loss: 0.0400 - sparse_categorical_accuracy: 0.99 - ETA: 17s - loss: 0.0400 - sparse_categorical_accuracy: 0.99 - ETA: 17s - loss: 0.0400 - sparse_categorical_accuracy: 0.99 - ETA: 17s - loss: 0.0400 - sparse_categorical_accuracy: 0.99 - ETA: 17s - loss: 0.0400 - sparse_categorical_accuracy: 0.99 - ETA: 17s - loss: 0.0400 - sparse_categorical_accuracy: 0.99 - ETA: 17s - loss: 0.0400 - sparse_categorical_accuracy: 0.99 - ETA: 17s - loss: 0.0400 - sparse_categorical_accuracy: 0.99 - ETA: 17s - loss: 0.0400 - sparse_categorical_accuracy: 0.99 - ETA: 17s - loss: 0.0400 - sparse_categorical_accuracy: 0.99 - ETA: 17s - loss: 0.0401 - sparse_categorical_accuracy: 0.99 - ETA: 17s - loss: 0.0400 - sparse_categorical_accuracy: 0.99 - ETA: 17s - loss: 0.0401 - sparse_categorical_accuracy: 0.99 - ETA: 17s - loss: 0.0400 - sparse_categorical_accuracy: 0.99 - ETA: 17s - loss: 0.0400 - sparse_categorical_accuracy: 0.99 - ETA: 17s - loss: 0.0400 - sparse_categorical_accuracy: 0.99 - ETA: 17s - loss: 0.0400 - sparse_categorical_accuracy: 0.99 - ETA: 16s - loss: 0.0400 - sparse_categorical_accuracy: 0.99 - ETA: 16s - loss: 0.0400 - sparse_categorical_accuracy: 0.99 - ETA: 16s - loss: 0.0400 - sparse_categorical_accuracy: 0.99 - ETA: 16s - loss: 0.0401 - sparse_categorical_accuracy: 0.99 - ETA: 16s - loss: 0.0400 - sparse_categorical_accuracy: 0.99 - ETA: 16s - loss: 0.0400 - sparse_categorical_accuracy: 0.99 - ETA: 16s - loss: 0.0401 - sparse_categorical_accuracy: 0.99 - ETA: 16s - loss: 0.0401 - sparse_categorical_accuracy: 0.99 - ETA: 16s - loss: 0.0401 - sparse_categorical_accuracy: 0.99 - ETA: 16s - loss: 0.0401 - sparse_categorical_accuracy: 0.99 - ETA: 16s - loss: 0.0400 - sparse_categorical_accuracy: 0.99 - ETA: 16s - loss: 0.0401 - sparse_categorical_accuracy: 0.99 - ETA: 16s - loss: 0.0400 - sparse_categorical_accuracy: 0.99 - ETA: 16s - loss: 0.0400 - sparse_categorical_accuracy: 0.99 - ETA: 15s - loss: 0.0400 - sparse_categorical_accuracy: 0.99 - ETA: 15s - loss: 0.0400 - sparse_categorical_accuracy: 0.99 - ETA: 15s - loss: 0.0400 - sparse_categorical_accuracy: 0.99 - ETA: 15s - loss: 0.0400 - sparse_categorical_accuracy: 0.99 - ETA: 15s - loss: 0.0400 - sparse_categorical_accuracy: 0.99 - ETA: 15s - loss: 0.0400 - sparse_categorical_accuracy: 0.99 - ETA: 15s - loss: 0.0400 - sparse_categorical_accuracy: 0.99 - ETA: 15s - loss: 0.0400 - sparse_categorical_accuracy: 0.99 - ETA: 15s - loss: 0.0400 - sparse_categorical_accuracy: 0.99 - ETA: 15s - loss: 0.0400 - sparse_categorical_accuracy: 0.99 - ETA: 15s - loss: 0.0400 - sparse_categorical_accuracy: 0.99 - ETA: 15s - loss: 0.0400 - sparse_categorical_accuracy: 0.99 - ETA: 15s - loss: 0.0400 - sparse_categorical_accuracy: 0.99 - ETA: 15s - loss: 0.0400 - sparse_categorical_accuracy: 0.99 - ETA: 15s - loss: 0.0400 - sparse_categorical_accuracy: 0.99 - ETA: 15s - loss: 0.0400 - sparse_categorical_accuracy: 0.99 - ETA: 14s - loss: 0.0400 - sparse_categorical_accuracy: 0.99 - ETA: 14s - loss: 0.0400 - sparse_categorical_accuracy: 0.99 - ETA: 14s - loss: 0.0400 - sparse_categorical_accuracy: 0.99 - ETA: 14s - loss: 0.0400 - sparse_categorical_accuracy: 0.99 - ETA: 14s - loss: 0.0400 - sparse_categorical_accuracy: 0.99 - ETA: 14s - loss: 0.0399 - sparse_categorical_accuracy: 0.99 - ETA: 14s - loss: 0.0399 - sparse_categorical_accuracy: 0.99 - ETA: 14s - loss: 0.0399 - sparse_categorical_accuracy: 0.99 - ETA: 14s - loss: 0.0400 - sparse_categorical_accuracy: 0.99 - ETA: 14s - loss: 0.0399 - sparse_categorical_accuracy: 0.99 - ETA: 14s - loss: 0.0399 - sparse_categorical_accuracy: 0.99 - ETA: 14s - loss: 0.0399 - sparse_categorical_accuracy: 0.99 - ETA: 14s - loss: 0.0399 - sparse_categorical_accuracy: 0.99 - ETA: 14s - loss: 0.0399 - sparse_categorical_accuracy: 0.99 - ETA: 14s - loss: 0.0399 - sparse_categorical_accuracy: 0.99 - ETA: 14s - loss: 0.0399 - sparse_categorical_accuracy: 0.99 - ETA: 14s - loss: 0.0399 - sparse_categorical_accuracy: 0.99 - ETA: 14s - loss: 0.0399 - sparse_categorical_accuracy: 0.99 - ETA: 14s - loss: 0.0399 - sparse_categorical_accuracy: 0.99 - ETA: 14s - loss: 0.0399 - sparse_categorical_accuracy: 0.99 - ETA: 13s - loss: 0.0399 - sparse_categorical_accuracy: 0.99 - ETA: 13s - loss: 0.0399 - sparse_categorical_accuracy: 0.99 - ETA: 13s - loss: 0.0399 - sparse_categorical_accuracy: 0.99 - ETA: 13s - loss: 0.0399 - sparse_categorical_accuracy: 0.99 - ETA: 13s - loss: 0.0399 - sparse_categorical_accuracy: 0.99 - ETA: 13s - loss: 0.0399 - sparse_categorical_accuracy: 0.99 - ETA: 13s - loss: 0.0399 - sparse_categorical_accuracy: 0.99 - ETA: 13s - loss: 0.0399 - sparse_categorical_accuracy: 0.99 - ETA: 13s - loss: 0.0399 - sparse_categorical_accuracy: 0.99 - ETA: 13s - loss: 0.0399 - sparse_categorical_accuracy: 0.99 - ETA: 13s - loss: 0.0399 - sparse_categorical_accuracy: 0.99 - ETA: 13s - loss: 0.0399 - sparse_categorical_accuracy: 0.99 - ETA: 13s - loss: 0.0399 - sparse_categorical_accuracy: 0.99 - ETA: 13s - loss: 0.0399 - sparse_categorical_accuracy: 0.99 - ETA: 13s - loss: 0.0399 - sparse_categorical_accuracy: 0.99 - ETA: 13s - loss: 0.0399 - sparse_categorical_accuracy: 0.99 - ETA: 13s - loss: 0.0399 - sparse_categorical_accuracy: 0.99 - ETA: 13s - loss: 0.0398 - sparse_categorical_accuracy: 0.99 - ETA: 13s - loss: 0.0399 - sparse_categorical_accuracy: 0.99 - ETA: 12s - loss: 0.0399 - sparse_categorical_accuracy: 0.99 - ETA: 12s - loss: 0.0398 - sparse_categorical_accuracy: 0.99 - ETA: 12s - loss: 0.0399 - sparse_categorical_accuracy: 0.99 - ETA: 12s - loss: 0.0399 - sparse_categorical_accuracy: 0.99 - ETA: 12s - loss: 0.0399 - sparse_categorical_accuracy: 0.99 - ETA: 12s - loss: 0.0399 - sparse_categorical_accuracy: 0.99 - ETA: 12s - loss: 0.0399 - sparse_categorical_accuracy: 0.99 - ETA: 12s - loss: 0.0398 - sparse_categorical_accuracy: 0.99 - ETA: 12s - loss: 0.0398 - sparse_categorical_accuracy: 0.99 - ETA: 12s - loss: 0.0398 - sparse_categorical_accuracy: 0.99 - ETA: 12s - loss: 0.0398 - sparse_categorical_accuracy: 0.99 - ETA: 12s - loss: 0.0398 - sparse_categorical_accuracy: 0.99 - ETA: 12s - loss: 0.0398 - sparse_categorical_accuracy: 0.99 - ETA: 12s - loss: 0.0398 - sparse_categorical_accuracy: 0.99 - ETA: 12s - loss: 0.0398 - sparse_categorical_accuracy: 0.99 - ETA: 11s - loss: 0.0398 - sparse_categorical_accuracy: 0.99 - ETA: 11s - loss: 0.0398 - sparse_categorical_accuracy: 0.99 - ETA: 11s - loss: 0.0398 - sparse_categorical_accuracy: 0.99 - ETA: 11s - loss: 0.0398 - sparse_categorical_accuracy: 0.99 - ETA: 11s - loss: 0.0398 - sparse_categorical_accuracy: 0.99 - ETA: 11s - loss: 0.0398 - sparse_categorical_accuracy: 0.99 - ETA: 11s - loss: 0.0398 - sparse_categorical_accuracy: 0.99 - ETA: 11s - loss: 0.0398 - sparse_categorical_accuracy: 0.99 - ETA: 11s - loss: 0.0398 - sparse_categorical_accuracy: 0.99 - ETA: 11s - loss: 0.0398 - sparse_categorical_accuracy: 0.99 - ETA: 11s - loss: 0.0398 - sparse_categorical_accuracy: 0.99 - ETA: 11s - loss: 0.0398 - sparse_categorical_accuracy: 0.99 - ETA: 11s - loss: 0.0397 - sparse_categorical_accuracy: 0.9901"
     ]
    },
    {
     "name": "stdout",
     "output_type": "stream",
     "text": [
      "43603/47247 [==========================>...] - ETA: 11s - loss: 0.0397 - sparse_categorical_accuracy: 0.99 - ETA: 11s - loss: 0.0398 - sparse_categorical_accuracy: 0.99 - ETA: 11s - loss: 0.0397 - sparse_categorical_accuracy: 0.99 - ETA: 10s - loss: 0.0397 - sparse_categorical_accuracy: 0.99 - ETA: 10s - loss: 0.0398 - sparse_categorical_accuracy: 0.99 - ETA: 10s - loss: 0.0397 - sparse_categorical_accuracy: 0.99 - ETA: 10s - loss: 0.0397 - sparse_categorical_accuracy: 0.99 - ETA: 10s - loss: 0.0397 - sparse_categorical_accuracy: 0.99 - ETA: 10s - loss: 0.0397 - sparse_categorical_accuracy: 0.99 - ETA: 10s - loss: 0.0397 - sparse_categorical_accuracy: 0.99 - ETA: 10s - loss: 0.0397 - sparse_categorical_accuracy: 0.99 - ETA: 10s - loss: 0.0397 - sparse_categorical_accuracy: 0.99 - ETA: 10s - loss: 0.0397 - sparse_categorical_accuracy: 0.99 - ETA: 10s - loss: 0.0397 - sparse_categorical_accuracy: 0.99 - ETA: 10s - loss: 0.0397 - sparse_categorical_accuracy: 0.99 - ETA: 10s - loss: 0.0397 - sparse_categorical_accuracy: 0.99 - ETA: 10s - loss: 0.0397 - sparse_categorical_accuracy: 0.99 - ETA: 10s - loss: 0.0397 - sparse_categorical_accuracy: 0.99 - ETA: 10s - loss: 0.0397 - sparse_categorical_accuracy: 0.99 - ETA: 10s - loss: 0.0397 - sparse_categorical_accuracy: 0.99 - ETA: 9s - loss: 0.0397 - sparse_categorical_accuracy: 0.9901 - ETA: 9s - loss: 0.0397 - sparse_categorical_accuracy: 0.990 - ETA: 9s - loss: 0.0398 - sparse_categorical_accuracy: 0.990 - ETA: 9s - loss: 0.0397 - sparse_categorical_accuracy: 0.990 - ETA: 9s - loss: 0.0397 - sparse_categorical_accuracy: 0.990 - ETA: 9s - loss: 0.0397 - sparse_categorical_accuracy: 0.990 - ETA: 9s - loss: 0.0398 - sparse_categorical_accuracy: 0.990 - ETA: 9s - loss: 0.0398 - sparse_categorical_accuracy: 0.990 - ETA: 9s - loss: 0.0398 - sparse_categorical_accuracy: 0.990 - ETA: 9s - loss: 0.0398 - sparse_categorical_accuracy: 0.990 - ETA: 9s - loss: 0.0398 - sparse_categorical_accuracy: 0.990 - ETA: 9s - loss: 0.0398 - sparse_categorical_accuracy: 0.990 - ETA: 9s - loss: 0.0398 - sparse_categorical_accuracy: 0.990 - ETA: 9s - loss: 0.0398 - sparse_categorical_accuracy: 0.990 - ETA: 9s - loss: 0.0398 - sparse_categorical_accuracy: 0.990 - ETA: 9s - loss: 0.0398 - sparse_categorical_accuracy: 0.990 - ETA: 9s - loss: 0.0398 - sparse_categorical_accuracy: 0.990 - ETA: 8s - loss: 0.0398 - sparse_categorical_accuracy: 0.990 - ETA: 8s - loss: 0.0397 - sparse_categorical_accuracy: 0.990 - ETA: 8s - loss: 0.0398 - sparse_categorical_accuracy: 0.990 - ETA: 8s - loss: 0.0397 - sparse_categorical_accuracy: 0.990 - ETA: 8s - loss: 0.0397 - sparse_categorical_accuracy: 0.990 - ETA: 8s - loss: 0.0397 - sparse_categorical_accuracy: 0.990 - ETA: 8s - loss: 0.0397 - sparse_categorical_accuracy: 0.990 - ETA: 8s - loss: 0.0397 - sparse_categorical_accuracy: 0.990 - ETA: 8s - loss: 0.0397 - sparse_categorical_accuracy: 0.990 - ETA: 8s - loss: 0.0397 - sparse_categorical_accuracy: 0.990 - ETA: 8s - loss: 0.0397 - sparse_categorical_accuracy: 0.990 - ETA: 8s - loss: 0.0397 - sparse_categorical_accuracy: 0.990 - ETA: 8s - loss: 0.0397 - sparse_categorical_accuracy: 0.990 - ETA: 8s - loss: 0.0397 - sparse_categorical_accuracy: 0.990 - ETA: 8s - loss: 0.0397 - sparse_categorical_accuracy: 0.990 - ETA: 7s - loss: 0.0397 - sparse_categorical_accuracy: 0.990 - ETA: 7s - loss: 0.0397 - sparse_categorical_accuracy: 0.990 - ETA: 7s - loss: 0.0397 - sparse_categorical_accuracy: 0.990 - ETA: 7s - loss: 0.0397 - sparse_categorical_accuracy: 0.990 - ETA: 7s - loss: 0.0397 - sparse_categorical_accuracy: 0.990 - ETA: 7s - loss: 0.0397 - sparse_categorical_accuracy: 0.990 - ETA: 7s - loss: 0.0397 - sparse_categorical_accuracy: 0.990 - ETA: 7s - loss: 0.0397 - sparse_categorical_accuracy: 0.990 - ETA: 7s - loss: 0.0397 - sparse_categorical_accuracy: 0.990 - ETA: 7s - loss: 0.0397 - sparse_categorical_accuracy: 0.990 - ETA: 7s - loss: 0.0397 - sparse_categorical_accuracy: 0.990 - ETA: 7s - loss: 0.0397 - sparse_categorical_accuracy: 0.990 - ETA: 7s - loss: 0.0397 - sparse_categorical_accuracy: 0.990 - ETA: 7s - loss: 0.0397 - sparse_categorical_accuracy: 0.990 - ETA: 7s - loss: 0.0397 - sparse_categorical_accuracy: 0.990 - ETA: 7s - loss: 0.0397 - sparse_categorical_accuracy: 0.990 - ETA: 6s - loss: 0.0397 - sparse_categorical_accuracy: 0.990 - ETA: 6s - loss: 0.0397 - sparse_categorical_accuracy: 0.990 - ETA: 6s - loss: 0.0397 - sparse_categorical_accuracy: 0.990 - ETA: 6s - loss: 0.0396 - sparse_categorical_accuracy: 0.990 - ETA: 6s - loss: 0.0397 - sparse_categorical_accuracy: 0.990 - ETA: 6s - loss: 0.0397 - sparse_categorical_accuracy: 0.990 - ETA: 6s - loss: 0.0397 - sparse_categorical_accuracy: 0.990 - ETA: 6s - loss: 0.0397 - sparse_categorical_accuracy: 0.990 - ETA: 6s - loss: 0.0396 - sparse_categorical_accuracy: 0.990 - ETA: 6s - loss: 0.0397 - sparse_categorical_accuracy: 0.990 - ETA: 6s - loss: 0.0396 - sparse_categorical_accuracy: 0.990 - ETA: 6s - loss: 0.0396 - sparse_categorical_accuracy: 0.990 - ETA: 6s - loss: 0.0397 - sparse_categorical_accuracy: 0.990 - ETA: 6s - loss: 0.0397 - sparse_categorical_accuracy: 0.990 - ETA: 6s - loss: 0.0397 - sparse_categorical_accuracy: 0.990 - ETA: 6s - loss: 0.0397 - sparse_categorical_accuracy: 0.990 - ETA: 5s - loss: 0.0397 - sparse_categorical_accuracy: 0.990 - ETA: 5s - loss: 0.0397 - sparse_categorical_accuracy: 0.990 - ETA: 5s - loss: 0.0397 - sparse_categorical_accuracy: 0.990 - ETA: 5s - loss: 0.0397 - sparse_categorical_accuracy: 0.990 - ETA: 5s - loss: 0.0397 - sparse_categorical_accuracy: 0.990 - ETA: 5s - loss: 0.0397 - sparse_categorical_accuracy: 0.990 - ETA: 5s - loss: 0.0397 - sparse_categorical_accuracy: 0.990 - ETA: 5s - loss: 0.0397 - sparse_categorical_accuracy: 0.990 - ETA: 5s - loss: 0.0397 - sparse_categorical_accuracy: 0.990 - ETA: 5s - loss: 0.0397 - sparse_categorical_accuracy: 0.990 - ETA: 5s - loss: 0.0397 - sparse_categorical_accuracy: 0.990 - ETA: 5s - loss: 0.0397 - sparse_categorical_accuracy: 0.990 - ETA: 5s - loss: 0.0397 - sparse_categorical_accuracy: 0.990 - ETA: 5s - loss: 0.0396 - sparse_categorical_accuracy: 0.990 - ETA: 5s - loss: 0.0397 - sparse_categorical_accuracy: 0.990 - ETA: 5s - loss: 0.0397 - sparse_categorical_accuracy: 0.990 - ETA: 5s - loss: 0.0397 - sparse_categorical_accuracy: 0.990 - ETA: 4s - loss: 0.0397 - sparse_categorical_accuracy: 0.990 - ETA: 4s - loss: 0.0397 - sparse_categorical_accuracy: 0.990 - ETA: 4s - loss: 0.0397 - sparse_categorical_accuracy: 0.990 - ETA: 4s - loss: 0.0397 - sparse_categorical_accuracy: 0.990 - ETA: 4s - loss: 0.0397 - sparse_categorical_accuracy: 0.990 - ETA: 4s - loss: 0.0397 - sparse_categorical_accuracy: 0.990 - ETA: 4s - loss: 0.0397 - sparse_categorical_accuracy: 0.990 - ETA: 4s - loss: 0.0397 - sparse_categorical_accuracy: 0.990 - ETA: 4s - loss: 0.0397 - sparse_categorical_accuracy: 0.990 - ETA: 4s - loss: 0.0397 - sparse_categorical_accuracy: 0.990 - ETA: 4s - loss: 0.0397 - sparse_categorical_accuracy: 0.990 - ETA: 4s - loss: 0.0397 - sparse_categorical_accuracy: 0.990 - ETA: 4s - loss: 0.0397 - sparse_categorical_accuracy: 0.990 - ETA: 4s - loss: 0.0397 - sparse_categorical_accuracy: 0.990 - ETA: 4s - loss: 0.0397 - sparse_categorical_accuracy: 0.990 - ETA: 4s - loss: 0.0397 - sparse_categorical_accuracy: 0.990 - ETA: 4s - loss: 0.0397 - sparse_categorical_accuracy: 0.990 - ETA: 3s - loss: 0.0397 - sparse_categorical_accuracy: 0.990 - ETA: 3s - loss: 0.0397 - sparse_categorical_accuracy: 0.990 - ETA: 3s - loss: 0.0397 - sparse_categorical_accuracy: 0.990 - ETA: 3s - loss: 0.0397 - sparse_categorical_accuracy: 0.990 - ETA: 3s - loss: 0.0397 - sparse_categorical_accuracy: 0.990 - ETA: 3s - loss: 0.0397 - sparse_categorical_accuracy: 0.990 - ETA: 3s - loss: 0.0397 - sparse_categorical_accuracy: 0.990 - ETA: 3s - loss: 0.0397 - sparse_categorical_accuracy: 0.990 - ETA: 3s - loss: 0.0397 - sparse_categorical_accuracy: 0.990 - ETA: 3s - loss: 0.0397 - sparse_categorical_accuracy: 0.990 - ETA: 3s - loss: 0.0397 - sparse_categorical_accuracy: 0.990 - ETA: 3s - loss: 0.0397 - sparse_categorical_accuracy: 0.990 - ETA: 3s - loss: 0.0397 - sparse_categorical_accuracy: 0.990 - ETA: 3s - loss: 0.0397 - sparse_categorical_accuracy: 0.9901"
     ]
    },
    {
     "name": "stdout",
     "output_type": "stream",
     "text": [
      "47247/47247 [==============================] - ETA: 3s - loss: 0.0397 - sparse_categorical_accuracy: 0.990 - ETA: 3s - loss: 0.0397 - sparse_categorical_accuracy: 0.990 - ETA: 3s - loss: 0.0397 - sparse_categorical_accuracy: 0.990 - ETA: 3s - loss: 0.0397 - sparse_categorical_accuracy: 0.990 - ETA: 3s - loss: 0.0397 - sparse_categorical_accuracy: 0.990 - ETA: 2s - loss: 0.0397 - sparse_categorical_accuracy: 0.990 - ETA: 2s - loss: 0.0397 - sparse_categorical_accuracy: 0.990 - ETA: 2s - loss: 0.0397 - sparse_categorical_accuracy: 0.990 - ETA: 2s - loss: 0.0397 - sparse_categorical_accuracy: 0.990 - ETA: 2s - loss: 0.0397 - sparse_categorical_accuracy: 0.990 - ETA: 2s - loss: 0.0397 - sparse_categorical_accuracy: 0.990 - ETA: 2s - loss: 0.0397 - sparse_categorical_accuracy: 0.990 - ETA: 2s - loss: 0.0397 - sparse_categorical_accuracy: 0.990 - ETA: 2s - loss: 0.0397 - sparse_categorical_accuracy: 0.990 - ETA: 2s - loss: 0.0397 - sparse_categorical_accuracy: 0.990 - ETA: 2s - loss: 0.0397 - sparse_categorical_accuracy: 0.990 - ETA: 2s - loss: 0.0397 - sparse_categorical_accuracy: 0.990 - ETA: 2s - loss: 0.0397 - sparse_categorical_accuracy: 0.990 - ETA: 2s - loss: 0.0398 - sparse_categorical_accuracy: 0.990 - ETA: 2s - loss: 0.0397 - sparse_categorical_accuracy: 0.990 - ETA: 2s - loss: 0.0398 - sparse_categorical_accuracy: 0.990 - ETA: 2s - loss: 0.0398 - sparse_categorical_accuracy: 0.990 - ETA: 2s - loss: 0.0397 - sparse_categorical_accuracy: 0.990 - ETA: 2s - loss: 0.0397 - sparse_categorical_accuracy: 0.990 - ETA: 2s - loss: 0.0397 - sparse_categorical_accuracy: 0.990 - ETA: 2s - loss: 0.0397 - sparse_categorical_accuracy: 0.990 - ETA: 1s - loss: 0.0397 - sparse_categorical_accuracy: 0.990 - ETA: 1s - loss: 0.0397 - sparse_categorical_accuracy: 0.990 - ETA: 1s - loss: 0.0397 - sparse_categorical_accuracy: 0.990 - ETA: 1s - loss: 0.0397 - sparse_categorical_accuracy: 0.990 - ETA: 1s - loss: 0.0397 - sparse_categorical_accuracy: 0.990 - ETA: 1s - loss: 0.0397 - sparse_categorical_accuracy: 0.990 - ETA: 1s - loss: 0.0397 - sparse_categorical_accuracy: 0.990 - ETA: 1s - loss: 0.0397 - sparse_categorical_accuracy: 0.990 - ETA: 1s - loss: 0.0397 - sparse_categorical_accuracy: 0.990 - ETA: 1s - loss: 0.0397 - sparse_categorical_accuracy: 0.990 - ETA: 1s - loss: 0.0397 - sparse_categorical_accuracy: 0.990 - ETA: 1s - loss: 0.0397 - sparse_categorical_accuracy: 0.990 - ETA: 1s - loss: 0.0397 - sparse_categorical_accuracy: 0.990 - ETA: 1s - loss: 0.0397 - sparse_categorical_accuracy: 0.990 - ETA: 1s - loss: 0.0397 - sparse_categorical_accuracy: 0.990 - ETA: 1s - loss: 0.0397 - sparse_categorical_accuracy: 0.990 - ETA: 1s - loss: 0.0397 - sparse_categorical_accuracy: 0.990 - ETA: 1s - loss: 0.0397 - sparse_categorical_accuracy: 0.990 - ETA: 1s - loss: 0.0397 - sparse_categorical_accuracy: 0.990 - ETA: 1s - loss: 0.0397 - sparse_categorical_accuracy: 0.990 - ETA: 0s - loss: 0.0397 - sparse_categorical_accuracy: 0.990 - ETA: 0s - loss: 0.0397 - sparse_categorical_accuracy: 0.990 - ETA: 0s - loss: 0.0397 - sparse_categorical_accuracy: 0.990 - ETA: 0s - loss: 0.0397 - sparse_categorical_accuracy: 0.990 - ETA: 0s - loss: 0.0397 - sparse_categorical_accuracy: 0.990 - ETA: 0s - loss: 0.0397 - sparse_categorical_accuracy: 0.990 - ETA: 0s - loss: 0.0397 - sparse_categorical_accuracy: 0.990 - ETA: 0s - loss: 0.0397 - sparse_categorical_accuracy: 0.990 - ETA: 0s - loss: 0.0398 - sparse_categorical_accuracy: 0.990 - ETA: 0s - loss: 0.0397 - sparse_categorical_accuracy: 0.990 - ETA: 0s - loss: 0.0398 - sparse_categorical_accuracy: 0.990 - ETA: 0s - loss: 0.0397 - sparse_categorical_accuracy: 0.990 - ETA: 0s - loss: 0.0397 - sparse_categorical_accuracy: 0.990 - ETA: 0s - loss: 0.0397 - sparse_categorical_accuracy: 0.990 - ETA: 0s - loss: 0.0397 - sparse_categorical_accuracy: 0.990 - ETA: 0s - loss: 0.0397 - sparse_categorical_accuracy: 0.990 - ETA: 0s - loss: 0.0397 - sparse_categorical_accuracy: 0.990 - ETA: 0s - loss: 0.0397 - sparse_categorical_accuracy: 0.990 - 43s 917us/step - loss: 0.0397 - sparse_categorical_accuracy: 0.9901\n",
      "test loss, test acc: [0.03971875458955765, 0.9901149272918701]\n"
     ]
    }
   ],
   "source": [
    "#evaluate\n",
    "print(\"Evaluate on test data\")\n",
    "results = model.evaluate(x_test, y_test)\n",
    "print(\"test loss, test acc:\", results)"
   ]
  },
  {
   "cell_type": "code",
   "execution_count": 12,
   "metadata": {},
   "outputs": [
    {
     "data": {
      "image/png": "[encoded data removed]",
      "text/plain": [
       "<Figure size 576x360 with 1 Axes>"
      ]
     },
     "metadata": {
      "needs_background": "light"
     },
     "output_type": "display_data"
    }
   ],
   "source": [
    "pd.DataFrame(history.history).plot(figsize=(8,5))\n",
    "plt.show()"
   ]
  },
  {
   "cell_type": "markdown",
   "metadata": {},
   "source": [
    "## Transpose and Convert Weights to File"
   ]
  },
  {
   "cell_type": "code",
   "execution_count": 13,
   "metadata": {},
   "outputs": [],
   "source": [
    "#transpose weight dimension\n",
    "transposed_l1 = tf.transpose(model.trainable_variables[0])\n",
    "transposed_l2 = tf.transpose(model.trainable_variables[2])\n",
    "transposed_l3 = tf.transpose(model.trainable_variables[4])\n",
    "transposed_l4 = tf.transpose(model.trainable_variables[6])\n",
    "#transposed_l5 = tf.transpose(model.trainable_variables[8])\n"
   ]
  },
  {
   "cell_type": "code",
   "execution_count": 14,
   "metadata": {},
   "outputs": [],
   "source": [
    "convert_weight_to_file(transposed_l1, \"w-l1.txt\")\n",
    "convert_weight_to_file(transposed_l2, \"w-l2.txt\")\n",
    "convert_weight_to_file(transposed_l3, \"w-l3.txt\")\n",
    "convert_weight_to_file(transposed_l4, \"w-l4.txt\")\n",
    "#convert_weight_to_file(transposed_l5, \"w-l5.txt\")\n",
    "\n",
    "\n",
    "#print(bintoint(weight))"
   ]
  },
  {
   "cell_type": "markdown",
   "metadata": {},
   "source": [
    "## Plot Confusion Matrix"
   ]
  },
  {
   "cell_type": "code",
   "execution_count": 15,
   "metadata": {},
   "outputs": [
    {
     "data": {
      "image/png": "[encoded data removed]",
      "text/plain": [
       "<Figure size 1296x720 with 2 Axes>"
      ]
     },
     "metadata": {},
     "output_type": "display_data"
    }
   ],
   "source": [
    "y_prob = model.predict(x_test)\n",
    "y_classes = y_prob.argmax(axis=-1)\n",
    "y_actu = pd.Series(y_test, name='Actual')\n",
    "y_pred = pd.Series(y_classes, name='Predicted')\n",
    "df_confusion = pd.crosstab(y_actu, y_pred)\n",
    "df_confusion_norm = (df_confusion / df_confusion.sum(axis=1))\n",
    "df_confusion_norm = df_confusion_norm.rename(columns={0: \"File Transfer\", \n",
    "                                  1: \"Streaming\",\n",
    "                                  2: \"Torrent\", \n",
    "                                  3: \"VPN File Transfer\", \n",
    "                                  4: \"VPN Streaming\", \n",
    "                                  5: \"VPN Torrent\"})\n",
    "df_confusion_norm = df_confusion_norm.rename(index={0: \"File Transfer\", \n",
    "                                  1: \"Streaming\",\n",
    "                                  2: \"Torrent\", \n",
    "                                  3: \"VPN File Transfer\", \n",
    "                                  4: \"VPN Streaming\", \n",
    "                                  5: \"VPN Torrent\"})\n",
    "\n",
    "\n",
    "sn.set(font_scale=1.4) # for label size\n",
    "plt.subplots(figsize=(18,10))\n",
    "#plt.title(\"Confusion Matrix\")\n",
    "ax = sn.heatmap(df_confusion_norm, annot=True, annot_kws={\"size\": 14}, fmt='f', cmap=plt.cm.Blues)\n",
    "bottom, top = ax.get_ylim()\n",
    "ax.xaxis.tick_top()\n",
    "plt.xticks(rotation=15)\n",
    "#plt.yticks(rotation=45)\n",
    "plt.xlabel(\"Predicted Label\", fontsize=18)\n",
    "plt.ylabel(\"Actual Label\", fontsize=18)\n",
    "ax.xaxis.set_label_position('top')\n",
    "ax.set_ylim(bottom, top)\n",
    "plt.savefig(\"cm_bnn-rev4.png\")\n",
    "plt.show()"
   ]
  },
  {
   "cell_type": "markdown",
   "metadata": {},
   "source": [
    "## Recall, Precision, F1 Score"
   ]
  },
  {
   "cell_type": "code",
   "execution_count": null,
   "metadata": {},
   "outputs": [],
   "source": [
    "from sklearn.metrics import classification_report\n",
    "print(classification_report(y_actu, y_pred))"
   ]
  },
  {
   "cell_type": "markdown",
   "metadata": {},
   "source": [
    "## Save Model and Weights"
   ]
  },
  {
   "cell_type": "code",
   "execution_count": 16,
   "metadata": {},
   "outputs": [],
   "source": [
    "model.save('bnn_56_traffic-rev4.h5')\n",
    "model.save_weights('bnn_56_traffic_weights-rev4.h5')"
   ]
  },
  {
   "cell_type": "markdown",
   "metadata": {},
   "source": [
    "## Load Partial NN weights (based on layer name)"
   ]
  },
  {
   "cell_type": "code",
   "execution_count": null,
   "metadata": {},
   "outputs": [],
   "source": [
    "new_inputs = keras.Input(shape=(56,), name=\"digits\")\n",
    "new_outputs = layers.Dense(6, activation=\"softmax\", name=\"predictions\")(new_inputs)\n",
    "\n",
    "new_model = keras.Model(inputs=new_inputs, outputs=new_outputs)\n",
    "new_model.load_weights('coba_bnn_56_traffic_weights.h5', by_name=True)"
   ]
  },
  {
   "cell_type": "markdown",
   "metadata": {},
   "source": [
    "## Predict One Instance with the New Partial Model"
   ]
  },
  {
   "cell_type": "code",
   "execution_count": null,
   "metadata": {},
   "outputs": [],
   "source": [
    "predictions = new_model.predict(np.array([inttobit(48920584543893867)]))\n",
    "np.argmax(predictions[0])"
   ]
  }
 ],
 "metadata": {
  "kernelspec": {
   "display_name": "Python 3",
   "language": "python",
   "name": "python3"
  },
  "language_info": {
   "codemirror_mode": {
    "name": "ipython",
    "version": 3
   },
   "file_extension": ".py",
   "mimetype": "text/x-python",
   "name": "python",
   "nbconvert_exporter": "python",
   "pygments_lexer": "ipython3",
   "version": "3.7.4"
  }
 },
 "nbformat": 4,
 "nbformat_minor": 5
}
