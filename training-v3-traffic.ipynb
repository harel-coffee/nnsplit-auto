{
 "cells": [
  {
   "cell_type": "markdown",
   "metadata": {},
   "source": [
    "# Jupyter Notebook for NN Training [Traffic-based]"
   ]
  },
  {
   "cell_type": "markdown",
   "metadata": {},
   "source": [
    "## Import Libraries"
   ]
  },
  {
   "cell_type": "code",
   "execution_count": 1,
   "metadata": {},
   "outputs": [],
   "source": [
    "from pathlib import Path\n",
    "from datetime import datetime\n",
    "import os\n",
    "\n",
    "import numpy as np\n",
    "import pandas as pd\n",
    "from scapy.compat import raw\n",
    "from scapy.layers.inet import IP, UDP\n",
    "from scapy.layers.l2 import Ether\n",
    "from scapy.packet import Padding\n",
    "from scipy import sparse\n",
    "\n",
    "from joblib import Parallel, delayed\n",
    "\n",
    "import tensorflow as tf\n",
    "from tensorflow import keras\n",
    "from tensorflow.keras import layers\n",
    "from keras.constraints import maxnorm\n",
    "\n",
    "from sklearn.model_selection import train_test_split\n",
    "\n",
    "from imblearn.over_sampling import RandomOverSampler\n",
    "from imblearn.under_sampling import RandomUnderSampler\n",
    "\n",
    "from keras.utils.np_utils import to_categorical\n",
    "import matplotlib.pyplot as plt\n",
    "\n",
    "import seaborn as sn\n",
    "\n",
    "from utils_new import should_omit_packet, read_pcap, PREFIX_TO_APP_ID, PREFIX_TO_TRAFFIC_ID"
   ]
  },
  {
   "cell_type": "markdown",
   "metadata": {},
   "source": [
    "## Define Necessary Function"
   ]
  },
  {
   "cell_type": "code",
   "execution_count": 2,
   "metadata": {},
   "outputs": [],
   "source": [
    "# Preprocessing\n",
    "#def remove_ether_header(packet):\n",
    "#    if Ether in packet:\n",
    "#        return packet[Ether].payload\n",
    "\n",
    "#    return packet\n",
    "\n",
    "\n",
    "#def mask_ip(packet):\n",
    "#    if IP in packet:\n",
    "#        packet[IP].src = '0.0.0.0'\n",
    "#        packet[IP].dst = '0.0.0.0'\n",
    "\n",
    "#    return packet\n",
    "\n",
    "\n",
    "#def pad_udp(packet):\n",
    "#    if UDP in packet:\n",
    "#        # get layers after udp\n",
    "#       layer_after = packet[UDP].payload.copy()\n",
    "\n",
    "        # build a padding layer\n",
    "#        pad = Padding()\n",
    "#        pad.load = '\\x00' * 12\n",
    "\n",
    "#        layer_before = packet.copy()\n",
    "#        layer_before[UDP].remove_payload()\n",
    "#        packet = layer_before / pad / layer_after\n",
    "\n",
    "#        return packet\n",
    "\n",
    "#    return packet\n",
    "\n",
    "\n",
    "#def packet_to_sparse_array(packet):\n",
    "#    arr = np.frombuffer(raw(packet), dtype=np.uint8)[0:] / 255\n",
    "    #if len(arr) < max_length:\n",
    "    #    pad_width = max_length - len(arr)\n",
    "    #    arr = np.pad(arr, pad_width=(0, pad_width), constant_values=0)\n",
    "\n",
    "    #arr = sparse.csr_matrix(arr)\n",
    "#    return arr\n",
    "def inttobit(n):\n",
    "    return [1 if digit=='1' else -1 for digit in '{0:056b}'.format(n)]\n",
    "\n",
    "def bintoint(binary):\n",
    "    number = 0\n",
    "    for b in binary:\n",
    "        number = (2*number)+int(b)\n",
    "    return number\n",
    "\n",
    "def conv_header(proto, sport, dport, size):\n",
    "    proto_bin = [int(x) for x in '{0:08b}'.format(proto)]\n",
    "    sport_bin = [int(x) for x in '{0:016b}'.format(sport)]\n",
    "    dport_bin = [int(x) for x in '{0:016b}'.format(dport)]\n",
    "    size_bin = [int(x) for x in '{0:016b}'.format(size)]\n",
    "    metric = proto_bin+sport_bin+dport_bin+size_bin\n",
    "    metric_int = bintoint(metric)\n",
    "    return metric, metric_int\n",
    "\n",
    "#convert weights to binary weights and to integer\n",
    "def convert_weight_to_file(weight_data, filename):\n",
    "    weight= []\n",
    "    weights = []\n",
    "    for i in weight_data:\n",
    "        for j in i:\n",
    "            if j < 0:\n",
    "                weight.append(0)\n",
    "            else:\n",
    "                weight.append(1)\n",
    "        weights.append(bintoint(weight))\n",
    "        weight.clear()\n",
    "    txtfile = open(filename, \"w\")\n",
    "    for i in weights:\n",
    "        txtfile.write(str(i) + \"\\n\")\n",
    "    txtfile.close()\n",
    "\n",
    "\n",
    "def transform_packet(packet):\n",
    "    if should_omit_packet(packet):\n",
    "        return None\n",
    "\n",
    "#    packet = remove_ether_header(packet)\n",
    "#    packet = pad_udp(packet)\n",
    "#    packet = mask_ip(packet)\n",
    "    \n",
    "    ############ ADDED: Removing Payload. Leaving only IP and TCP/UDP header\n",
    "#    if 'UDP' in packet:\n",
    "#        packet['UDP'].remove_payload()\n",
    "#    elif 'TCP' in packet:\n",
    "#        packet['TCP'].remove_payload()\n",
    "    #######################################################################\n",
    "    if 'IP' in packet:\n",
    "        size =  int(packet.len)\n",
    "        try:\n",
    "            proto = (packet.proto)\n",
    "        except AttributeError:\n",
    "            proto = 0\n",
    "        try:\n",
    "            sport = (packet.sport)\n",
    "            dport = (packet.dport)\n",
    "        except AttributeError:\n",
    "            sport = 0\n",
    "            dport = 0\n",
    "\n",
    "        proto = [int(x) for x in '{0:08b}'.format(proto)]\n",
    "        sport = [int(x) for x in '{0:016b}'.format(sport)]\n",
    "        dport = [int(x) for x in '{0:016b}'.format(dport)]\n",
    "        size =  [int(x) for x in '{0:016b}'.format(size)]\n",
    "        #metric = [(proto/255), (sport/65535), (dport/65535), (size/65535)]\n",
    "        metric = proto + sport + dport + size\n",
    "        adapted_metric = [-1 if x == 0 else x for x in metric]\n",
    "    #arr = packet_to_sparse_array(packet)\n",
    "        if len(adapted_metric) == 56:\n",
    "            return np.asarray(adapted_metric)\n",
    "\n",
    "def transform_pcap(path, output_path: Path = None, output_batch_size=10000):\n",
    "    if Path(str(output_path.absolute()) + '_SUCCESS').exists():\n",
    "        print(output_path, 'Done')\n",
    "        return\n",
    "    \n",
    "    start = datetime.now()\n",
    "    print('########################################')\n",
    "\n",
    "    print('Processing', path, '. Started at:', start)\n",
    "\n",
    "    rows = []\n",
    "    batch_index = 0\n",
    "    #for pcap in path.iterdir():\n",
    "    for i, packet in enumerate(read_pcap(path)):\n",
    "        arr = transform_packet(packet)\n",
    "        if arr is not None:\n",
    "            # get labels for app identification\n",
    "            prefix = path.name.split('.')[0].lower()\n",
    "            app_label = PREFIX_TO_APP_ID.get(prefix)\n",
    "            traffic_label = PREFIX_TO_TRAFFIC_ID.get(prefix)\n",
    "            ###### ADDED: check if the the label exist or not\n",
    "            if app_label is not None and traffic_label is not None:\n",
    "                row = {\n",
    "                    'app_label': app_label,\n",
    "                    'traffic_label': traffic_label,\n",
    "                    'feature': arr\n",
    "                }\n",
    "                rows.append(row)\n",
    "        #print(path, 'Done')\n",
    "    #print(output_path, 'Done processing')\n",
    "        if rows and i > 0 and i % output_batch_size == 0:\n",
    "            part_output_path = Path(str(output_path.absolute()) + f'_part_{batch_index:04d}.parquet')\n",
    "            df = pd.DataFrame(rows)\n",
    "            df.to_parquet(part_output_path)\n",
    "            batch_index += 1\n",
    "            rows.clear()\n",
    "            \n",
    "    if rows:\n",
    "        df = pd.DataFrame(rows)\n",
    "        part_output_path = Path(str(output_path.absolute()) + f'_part_{batch_index:04d}.parquet')\n",
    "        df.to_parquet(part_output_path)\n",
    "    \n",
    "    with Path(str(output_path.absolute()) + '_SUCCESS').open('w') as f:\n",
    "        f.write('')\n",
    "        \n",
    "    print(path, 'Done. End: ', datetime.now(), ' Processing time: ', (datetime.now()-start))\n",
    "    #print('data saved')\n",
    "    #return rows\n",
    "\n",
    "       # write every batch_size packets, by default 10000\n",
    "#        if rows and i > 0 and i % output_batch_size == 0:\n",
    " #           part_output_path = Path(str(output_path.absolute()) + f'_part_{batch_index:04d}.parquet')\n",
    "  #          df = pd.DataFrame(rows)\n",
    "   #         df.to_parquet(part_output_path)\n",
    "    #        batch_index += 1\n",
    "    #        rows.clear()\n",
    "\n",
    "    # final write\n",
    "#    if rows:\n",
    "#        df = pd.DataFrame(rows)\n",
    "#        part_output_path = Path(str(output_path.absolute()) + f'_part_{batch_index:04d}.parquet')\n",
    "#        df.to_parquet(part_output_path)\n",
    "\n",
    "    # write success file\n",
    "#    with Path(str(output_path.absolute()) + '_SUCCESS').open('w') as f:\n",
    "#        f.write('')\n",
    "\n",
    "\n",
    "#    print(output_path, 'Done')"
   ]
  },
  {
   "cell_type": "markdown",
   "metadata": {},
   "source": [
    "## Data Location"
   ]
  },
  {
   "cell_type": "code",
   "execution_count": 3,
   "metadata": {},
   "outputs": [],
   "source": [
    "#pcap location\n",
    "data_path = Path(\"thesis_data_traffic/\")\n",
    "output_path = Path(\"thesis_preprocessed_traffic/\")\n",
    "output_path.mkdir(parents=True, exist_ok=True)\n",
    "#type(data_path)"
   ]
  },
  {
   "cell_type": "markdown",
   "metadata": {},
   "source": [
    "## Process PCAP Data"
   ]
  },
  {
   "cell_type": "code",
   "execution_count": null,
   "metadata": {},
   "outputs": [],
   "source": [
    "#transform pcap into dictionary{app_label, traffic_label, feature}\n",
    "#rows = transform_pcap(data_path, output_path)\n",
    "Parallel(n_jobs=1)(\n",
    "    delayed(transform_pcap)(pcap_path, output_path / (pcap_path.name + '.transformed')) for pcap_path in\n",
    "    sorted(data_path.iterdir()))\n",
    "print('transforming pcap: finished')"
   ]
  },
  {
   "cell_type": "markdown",
   "metadata": {},
   "source": [
    "## Read Data From Extracted PCAP"
   ]
  },
  {
   "cell_type": "code",
   "execution_count": 4,
   "metadata": {},
   "outputs": [],
   "source": [
    "#read parquet files\n",
    "data = pd.concat(\n",
    "    (pd.read_parquet(parquet_file)\n",
    "    for parquet_file in output_path.glob('*.parquet')),\n",
    "    ignore_index=True\n",
    ")\n"
   ]
  },
  {
   "cell_type": "markdown",
   "metadata": {},
   "source": [
    "## Shuffling, Undersampling, Oversampling"
   ]
  },
  {
   "cell_type": "code",
   "execution_count": 5,
   "metadata": {},
   "outputs": [],
   "source": [
    "#randomize data\n",
    "data = data.sample(frac=1).reset_index(drop=True)\n",
    "\n",
    "\n",
    "#convert dtype to simpler dtype\n",
    "data['app_label'] = data['app_label'].astype('int8')\n",
    "data['traffic_label'] = data['traffic_label'].astype('int8')\n",
    "\n",
    "#######Undersampling (traffic label as class)\n",
    "# Convert dataframe -> list\n",
    "label = data['traffic_label'].tolist()\n",
    "features = data['feature'].tolist()\n",
    "\n",
    "#Undersampling several classes to 255000\n",
    "rus = RandomUnderSampler(sampling_strategy={0: 252000, 1:252000, 4: 252000, 5:252000})\n",
    "\n",
    "#Oversampling the minority to 255000\n",
    "ros = RandomOverSampler(sampling_strategy={2: 252000})\n",
    "\n",
    "#Execute undersampling and oversampling\n",
    "feature_resampled, label_resampled = rus.fit_resample(features, label)\n",
    "feature_resampled, label_resampled = ros.fit_resample(feature_resampled, label_resampled)\n",
    "\n",
    "#one_hot_label_resampled = to_categorical(label_resampled, num_classes=6)\n",
    "\n",
    "\n",
    "######## Simpler extraction version #########\n",
    "#y_app = data['app_label'].values\n",
    "#y_traffic = data['traffic_label'].values\n",
    "#X = np.array(list(data['feature']), dtype=np.float32)\n",
    "#############################################\n",
    "\n",
    "###### Extract feature to X : WORKING CODE (Still consume huge memory) #####\n",
    "#for i in data['feature']:\n",
    "#    X_list.append(i.tolist())\n",
    "\n",
    "#X = np.array(X_list)\n",
    "#X_list.clear()\n",
    "###############################################\n",
    "\n"
   ]
  },
  {
   "cell_type": "markdown",
   "metadata": {},
   "source": [
    "## Train and Test Split"
   ]
  },
  {
   "cell_type": "code",
   "execution_count": 6,
   "metadata": {},
   "outputs": [],
   "source": [
    "#divide train and test data\n",
    "#x_train, x_test, y_train, y_test = train_test_split(np.array(list(data['feature']), dtype=np.float32), data['traffic_label'].values, test_size=0.2, random_state=1)\n",
    "\n",
    "x_train, x_test, y_train, y_test = train_test_split(np.array(feature_resampled, dtype=np.float32), np.asarray(label_resampled), test_size=0.2, random_state=1)\n",
    "\n",
    "#x_train, x_test, y_train, y_test = train_test_split(np.array(feature_resampled, dtype=np.float32), one_hot_label_resampled,test_size=0.2, random_state=1)\n",
    "\n",
    "x_train, x_val, y_train, y_val = train_test_split(x_train, y_train, test_size=0.25, random_state=1) # 0.25 x 0.8 = 0.2"
   ]
  },
  {
   "cell_type": "markdown",
   "metadata": {},
   "source": [
    "## Build NN model"
   ]
  },
  {
   "cell_type": "code",
   "execution_count": 7,
   "metadata": {},
   "outputs": [],
   "source": [
    "model = None\n",
    "#build neural network structure\n",
    "# dropout = layers.Dropout(0.2, input_shape=(56,))\n",
    "# inputs = keras.Input(shape=(56,), name=\"digits\")(dropout)\n",
    "# x = layers.Dropout(0.5)(inputs)\n",
    "# x = layers.Dense(56, activation=\"sigmoid\", name=\"dense_1\")(x)\n",
    "# x = layers.Dropout(0.5)(x)\n",
    "# x = layers.Dense(56, activation=\"sigmoid\", name=\"dense_2\")(x)\n",
    "# x = layers.Dropout(0.5)(inputs)\n",
    "# x = layers.Dense(56, activation=\"sigmoid\", name=\"dense_3\")(x)\n",
    "# x = layers.Dropout(0.5)(inputs)\n",
    "# x = layers.Dense(56, activation=\"sigmoid\", name=\"dense_4\")(x)\n",
    "# # x = layers.Dense(56, activation=\"sigmoid\", name=\"dense_5\")(x)\n",
    "# # x = layers.Dense(56, activation=\"sigmoid\", name=\"dense_6\")(x)\n",
    "# # x = layers.Dense(56, activation=\"sigmoid\", name=\"dense_7\")(x)\n",
    "# # x = layers.Dense(56, activation=\"sigmoid\", name=\"dense_8\")(x)\n",
    "# outputs = layers.Dense(6, activation=\"softmax\", name=\"predictions\")(x)\n",
    "\n",
    "# model = keras.Model(inputs=inputs, outputs=outputs)\n",
    "model = keras.models.Sequential()\n",
    "model.add(layers.Dropout(0.2))\n",
    "model.add(layers.Dense(56, input_dim=56, activation=\"tanh\", name=\"dense_1\", kernel_constraint=maxnorm(2)))\n",
    "model.add(layers.Dropout(0.5))\n",
    "model.add(layers.Dense(56, activation=\"tanh\", name=\"dense_2\", kernel_constraint=maxnorm(2)))\n",
    "model.add(layers.Dropout(0.5))\n",
    "model.add(layers.Dense(56, activation=\"tanh\", name=\"dense_3\", kernel_constraint=maxnorm(2)))\n",
    "model.add(layers.Dropout(0.5))\n",
    "model.add(layers.Dense(56, activation=\"tanh\", name=\"dense_4\", kernel_constraint=maxnorm(2)))\n",
    "model.add(layers.Dropout(0.5))\n",
    "model.add(layers.Dense(6, activation=\"softmax\", name=\"predictions\"))"
   ]
  },
  {
   "cell_type": "markdown",
   "metadata": {},
   "source": [
    "## Compile Model"
   ]
  },
  {
   "cell_type": "code",
   "execution_count": 8,
   "metadata": {},
   "outputs": [],
   "source": [
    "#define optimizer, loss function, and metric\n",
    "model.compile(\n",
    "    optimizer=keras.optimizers.Adam(),  # Optimizer\n",
    "    # Loss function to minimize\n",
    "    loss=keras.losses.SparseCategoricalCrossentropy(),\n",
    "    # List of metrics to monitor\n",
    "    metrics=[keras.metrics.SparseCategoricalAccuracy()]\n",
    "    #metrics=[keras.metrics.Accuracy()],\n",
    ")\n"
   ]
  },
  {
   "cell_type": "markdown",
   "metadata": {},
   "source": [
    "## Train the Model"
   ]
  },
  {
   "cell_type": "code",
   "execution_count": 9,
   "metadata": {},
   "outputs": [
    {
     "name": "stdout",
     "output_type": "stream",
     "text": [
      "Epoch 1/50\n",
      "7092/7092 - 21s - loss: 0.3251 - sparse_categorical_accuracy: 0.9040 - val_loss: 0.0882 - val_sparse_categorical_accuracy: 0.9818\n",
      "Epoch 2/50\n",
      "7092/7092 - 20s - loss: 0.2082 - sparse_categorical_accuracy: 0.9449 - val_loss: 0.0758 - val_sparse_categorical_accuracy: 0.9833\n",
      "Epoch 3/50\n",
      "7092/7092 - 23s - loss: 0.1938 - sparse_categorical_accuracy: 0.9490 - val_loss: 0.0703 - val_sparse_categorical_accuracy: 0.9839\n",
      "Epoch 4/50\n",
      "7092/7092 - 20s - loss: 0.1864 - sparse_categorical_accuracy: 0.9510 - val_loss: 0.0688 - val_sparse_categorical_accuracy: 0.9848\n",
      "Epoch 5/50\n",
      "7092/7092 - 21s - loss: 0.1848 - sparse_categorical_accuracy: 0.9514 - val_loss: 0.0687 - val_sparse_categorical_accuracy: 0.9844\n",
      "Epoch 6/50\n",
      "7092/7092 - 21s - loss: 0.1806 - sparse_categorical_accuracy: 0.9528 - val_loss: 0.0689 - val_sparse_categorical_accuracy: 0.9830\n",
      "Epoch 7/50\n",
      "7092/7092 - 22s - loss: 0.1801 - sparse_categorical_accuracy: 0.9526 - val_loss: 0.0642 - val_sparse_categorical_accuracy: 0.9856\n",
      "Epoch 8/50\n",
      "7092/7092 - 19s - loss: 0.1772 - sparse_categorical_accuracy: 0.9534 - val_loss: 0.0663 - val_sparse_categorical_accuracy: 0.9850\n",
      "Epoch 9/50\n",
      "7092/7092 - 19s - loss: 0.1756 - sparse_categorical_accuracy: 0.9541 - val_loss: 0.0655 - val_sparse_categorical_accuracy: 0.9855\n",
      "Epoch 10/50\n",
      "7092/7092 - 19s - loss: 0.1763 - sparse_categorical_accuracy: 0.9537 - val_loss: 0.0648 - val_sparse_categorical_accuracy: 0.9855\n",
      "Epoch 11/50\n",
      "7092/7092 - 19s - loss: 0.1739 - sparse_categorical_accuracy: 0.9545 - val_loss: 0.0677 - val_sparse_categorical_accuracy: 0.9845\n",
      "Epoch 12/50\n",
      "7092/7092 - 19s - loss: 0.1742 - sparse_categorical_accuracy: 0.9547 - val_loss: 0.0667 - val_sparse_categorical_accuracy: 0.9849\n",
      "Epoch 13/50\n",
      "7092/7092 - 20s - loss: 0.1739 - sparse_categorical_accuracy: 0.9545 - val_loss: 0.0644 - val_sparse_categorical_accuracy: 0.9851\n",
      "Epoch 14/50\n",
      "7092/7092 - 21s - loss: 0.1725 - sparse_categorical_accuracy: 0.9550 - val_loss: 0.0640 - val_sparse_categorical_accuracy: 0.9855\n",
      "Epoch 15/50\n",
      "7092/7092 - 21s - loss: 0.1708 - sparse_categorical_accuracy: 0.9552 - val_loss: 0.0638 - val_sparse_categorical_accuracy: 0.9850\n",
      "Epoch 16/50\n",
      "7092/7092 - 22s - loss: 0.1716 - sparse_categorical_accuracy: 0.9552 - val_loss: 0.0649 - val_sparse_categorical_accuracy: 0.9852\n",
      "Epoch 17/50\n",
      "7092/7092 - 20s - loss: 0.1710 - sparse_categorical_accuracy: 0.9554 - val_loss: 0.0648 - val_sparse_categorical_accuracy: 0.9851\n",
      "Epoch 18/50\n",
      "7092/7092 - 20s - loss: 0.1703 - sparse_categorical_accuracy: 0.9554 - val_loss: 0.0644 - val_sparse_categorical_accuracy: 0.9856\n",
      "Epoch 19/50\n",
      "7092/7092 - 20s - loss: 0.1698 - sparse_categorical_accuracy: 0.9556 - val_loss: 0.0633 - val_sparse_categorical_accuracy: 0.9853\n",
      "Epoch 20/50\n",
      "7092/7092 - 21s - loss: 0.1696 - sparse_categorical_accuracy: 0.9559 - val_loss: 0.0657 - val_sparse_categorical_accuracy: 0.9847\n",
      "Epoch 21/50\n",
      "7092/7092 - 20s - loss: 0.1689 - sparse_categorical_accuracy: 0.9560 - val_loss: 0.0665 - val_sparse_categorical_accuracy: 0.9845\n",
      "Epoch 22/50\n",
      "7092/7092 - 21s - loss: 0.1698 - sparse_categorical_accuracy: 0.9559 - val_loss: 0.0709 - val_sparse_categorical_accuracy: 0.9833\n",
      "Epoch 23/50\n",
      "7092/7092 - 20s - loss: 0.1687 - sparse_categorical_accuracy: 0.9561 - val_loss: 0.0670 - val_sparse_categorical_accuracy: 0.9847\n",
      "Epoch 24/50\n",
      "7092/7092 - 20s - loss: 0.1684 - sparse_categorical_accuracy: 0.9564 - val_loss: 0.0645 - val_sparse_categorical_accuracy: 0.9855\n",
      "Epoch 25/50\n",
      "7092/7092 - 20s - loss: 0.1685 - sparse_categorical_accuracy: 0.9567 - val_loss: 0.0634 - val_sparse_categorical_accuracy: 0.9848\n",
      "Epoch 26/50\n",
      "7092/7092 - 20s - loss: 0.1694 - sparse_categorical_accuracy: 0.9561 - val_loss: 0.0621 - val_sparse_categorical_accuracy: 0.9853\n",
      "Epoch 27/50\n",
      "7092/7092 - 20s - loss: 0.1689 - sparse_categorical_accuracy: 0.9562 - val_loss: 0.0652 - val_sparse_categorical_accuracy: 0.9845\n",
      "Epoch 28/50\n",
      "7092/7092 - 20s - loss: 0.1685 - sparse_categorical_accuracy: 0.9562 - val_loss: 0.0611 - val_sparse_categorical_accuracy: 0.9861\n",
      "Epoch 29/50\n",
      "7092/7092 - 19s - loss: 0.1689 - sparse_categorical_accuracy: 0.9563 - val_loss: 0.0695 - val_sparse_categorical_accuracy: 0.9842\n",
      "Epoch 30/50\n",
      "7092/7092 - 20s - loss: 0.1678 - sparse_categorical_accuracy: 0.9566 - val_loss: 0.0656 - val_sparse_categorical_accuracy: 0.9856\n",
      "Epoch 31/50\n",
      "7092/7092 - 20s - loss: 0.1675 - sparse_categorical_accuracy: 0.9566 - val_loss: 0.0637 - val_sparse_categorical_accuracy: 0.9858\n",
      "Epoch 32/50\n",
      "7092/7092 - 20s - loss: 0.1687 - sparse_categorical_accuracy: 0.9562 - val_loss: 0.0624 - val_sparse_categorical_accuracy: 0.9850\n",
      "Epoch 33/50\n",
      "7092/7092 - 20s - loss: 0.1670 - sparse_categorical_accuracy: 0.9566 - val_loss: 0.0642 - val_sparse_categorical_accuracy: 0.9857\n",
      "Epoch 34/50\n",
      "7092/7092 - 20s - loss: 0.1674 - sparse_categorical_accuracy: 0.9564 - val_loss: 0.0636 - val_sparse_categorical_accuracy: 0.9845\n",
      "Epoch 35/50\n",
      "7092/7092 - 20s - loss: 0.1653 - sparse_categorical_accuracy: 0.9572 - val_loss: 0.0651 - val_sparse_categorical_accuracy: 0.9845\n",
      "Epoch 36/50\n",
      "7092/7092 - 20s - loss: 0.1665 - sparse_categorical_accuracy: 0.9567 - val_loss: 0.0646 - val_sparse_categorical_accuracy: 0.9846\n",
      "Epoch 37/50\n",
      "7092/7092 - 20s - loss: 0.1672 - sparse_categorical_accuracy: 0.9565 - val_loss: 0.0637 - val_sparse_categorical_accuracy: 0.9849\n",
      "Epoch 38/50\n",
      "7092/7092 - 20s - loss: 0.1666 - sparse_categorical_accuracy: 0.9567 - val_loss: 0.0617 - val_sparse_categorical_accuracy: 0.9859\n",
      "Epoch 39/50\n",
      "7092/7092 - 20s - loss: 0.1674 - sparse_categorical_accuracy: 0.9567 - val_loss: 0.0623 - val_sparse_categorical_accuracy: 0.9854\n",
      "Epoch 40/50\n",
      "7092/7092 - 21s - loss: 0.1671 - sparse_categorical_accuracy: 0.9567 - val_loss: 0.0631 - val_sparse_categorical_accuracy: 0.9850\n",
      "Epoch 41/50\n",
      "7092/7092 - 20s - loss: 0.1664 - sparse_categorical_accuracy: 0.9567 - val_loss: 0.0626 - val_sparse_categorical_accuracy: 0.9852\n",
      "Epoch 42/50\n",
      "7092/7092 - 20s - loss: 0.1661 - sparse_categorical_accuracy: 0.9568 - val_loss: 0.0629 - val_sparse_categorical_accuracy: 0.9859\n",
      "Epoch 43/50\n",
      "7092/7092 - 20s - loss: 0.1659 - sparse_categorical_accuracy: 0.9568 - val_loss: 0.0614 - val_sparse_categorical_accuracy: 0.9855\n",
      "Epoch 44/50\n",
      "7092/7092 - 19s - loss: 0.1657 - sparse_categorical_accuracy: 0.9572 - val_loss: 0.0634 - val_sparse_categorical_accuracy: 0.9857\n",
      "Epoch 45/50\n",
      "7092/7092 - 19s - loss: 0.1663 - sparse_categorical_accuracy: 0.9567 - val_loss: 0.0614 - val_sparse_categorical_accuracy: 0.9860\n",
      "Epoch 46/50\n",
      "7092/7092 - 19s - loss: 0.1663 - sparse_categorical_accuracy: 0.9568 - val_loss: 0.0621 - val_sparse_categorical_accuracy: 0.9855\n",
      "Epoch 47/50\n",
      "7092/7092 - 19s - loss: 0.1657 - sparse_categorical_accuracy: 0.9568 - val_loss: 0.0605 - val_sparse_categorical_accuracy: 0.9858\n",
      "Epoch 48/50\n",
      "7092/7092 - 19s - loss: 0.1655 - sparse_categorical_accuracy: 0.9570 - val_loss: 0.0605 - val_sparse_categorical_accuracy: 0.9860\n",
      "Epoch 49/50\n",
      "7092/7092 - 19s - loss: 0.1657 - sparse_categorical_accuracy: 0.9570 - val_loss: 0.0631 - val_sparse_categorical_accuracy: 0.9855\n",
      "Epoch 50/50\n",
      "7092/7092 - 21s - loss: 0.1668 - sparse_categorical_accuracy: 0.9569 - val_loss: 0.0649 - val_sparse_categorical_accuracy: 0.9847\n"
     ]
    }
   ],
   "source": [
    "#fit training model\n",
    "history = model.fit(\n",
    "    x_train,\n",
    "    y_train,\n",
    "    batch_size=128,\n",
    "    epochs=20,\n",
    "    verbose=2,\n",
    "    # We pass some validation for\n",
    "    # monitoring validation loss and metrics\n",
    "    # at the end of each epoch\n",
    "    validation_data=(x_val, y_val),\n",
    ")\n"
   ]
  },
  {
   "cell_type": "markdown",
   "metadata": {},
   "source": [
    "## Evaluate the Model"
   ]
  },
  {
   "cell_type": "code",
   "execution_count": null,
   "metadata": {},
   "outputs": [],
   "source": [
    "#evaluate\n",
    "print(\"Evaluate on test data\")\n",
    "results = model.evaluate(x_test, y_test)\n",
    "print(\"test loss, test acc:\", results)"
   ]
  },
  {
   "cell_type": "code",
   "execution_count": 11,
   "metadata": {},
   "outputs": [
    {
     "data": {
      "image/png": "[encoded data removed]",
      "text/plain": [
       "<Figure size 576x360 with 1 Axes>"
      ]
     },
     "metadata": {
      "needs_background": "light"
     },
     "output_type": "display_data"
    }
   ],
   "source": [
    "pd.DataFrame(history.history).plot(figsize=(8,5))\n",
    "plt.show()"
   ]
  },
  {
   "cell_type": "markdown",
   "metadata": {},
   "source": [
    "## Transpose and Convert Weights to File"
   ]
  },
  {
   "cell_type": "code",
   "execution_count": 14,
   "metadata": {},
   "outputs": [],
   "source": [
    "#transpose weight dimension\n",
    "transposed_l1 = tf.transpose(model.trainable_variables[0])\n",
    "transposed_l2 = tf.transpose(model.trainable_variables[2])\n",
    "transposed_l3 = tf.transpose(model.trainable_variables[4])\n",
    "transposed_l4 = tf.transpose(model.trainable_variables[6])\n",
    "#transposed_l5 = tf.transpose(model.trainable_variables[8])\n"
   ]
  },
  {
   "cell_type": "code",
   "execution_count": 15,
   "metadata": {},
   "outputs": [],
   "source": [
    "convert_weight_to_file(transposed_l1, \"w-l1.txt\")\n",
    "convert_weight_to_file(transposed_l2, \"w-l2.txt\")\n",
    "convert_weight_to_file(transposed_l3, \"w-l3.txt\")\n",
    "convert_weight_to_file(transposed_l4, \"w-l4.txt\")\n",
    "#convert_weight_to_file(transposed_l5, \"w-l5.txt\")\n",
    "\n",
    "\n",
    "#print(bintoint(weight))"
   ]
  },
  {
   "cell_type": "markdown",
   "metadata": {},
   "source": [
    "## Plot Confusion Matrix"
   ]
  },
  {
   "cell_type": "code",
   "execution_count": 12,
   "metadata": {},
   "outputs": [
    {
     "data": {
      "image/png": "[encoded data removed]",
      "text/plain": [
       "<Figure size 1080x720 with 2 Axes>"
      ]
     },
     "metadata": {},
     "output_type": "display_data"
    }
   ],
   "source": [
    "y_prob = model.predict(x_test)\n",
    "y_classes = y_prob.argmax(axis=-1)\n",
    "y_actu = pd.Series(y_test, name='Actual')\n",
    "y_pred = pd.Series(y_classes, name='Predicted')\n",
    "df_confusion = pd.crosstab(y_actu, y_pred)\n",
    "df_confusion_norm = (df_confusion / df_confusion.sum(axis=1))\n",
    "\n",
    "\n",
    "sn.set(font_scale=1.4) # for label size\n",
    "plt.subplots(figsize=(15,10))\n",
    "ax = sn.heatmap(df_confusion_norm, annot=True, annot_kws={\"size\": 14}, fmt='f', cmap=plt.cm.Blues)\n",
    "bottom, top = ax.get_ylim()\n",
    "ax.set_ylim(bottom + 0.5, top - 0.5)\n",
    "plt.show()"
   ]
  },
  {
   "cell_type": "markdown",
   "metadata": {},
   "source": [
    "## Recall, Precision, F1 Score"
   ]
  },
  {
   "cell_type": "code",
   "execution_count": 13,
   "metadata": {},
   "outputs": [
    {
     "name": "stdout",
     "output_type": "stream",
     "text": [
      "              precision    recall  f1-score   support\n",
      "\n",
      "           0       0.99      1.00      1.00     50175\n",
      "           1       0.99      0.98      0.98     50472\n",
      "           2       1.00      0.99      0.99     50478\n",
      "           3       0.97      0.99      0.98     50913\n",
      "           4       0.97      0.99      0.98     49980\n",
      "           5       0.99      0.96      0.98     50560\n",
      "\n",
      "    accuracy                           0.98    302578\n",
      "   macro avg       0.98      0.98      0.98    302578\n",
      "weighted avg       0.98      0.98      0.98    302578\n",
      "\n"
     ]
    }
   ],
   "source": [
    "from sklearn.metrics import classification_report\n",
    "print(classification_report(y_actu, y_pred))"
   ]
  },
  {
   "cell_type": "markdown",
   "metadata": {},
   "source": [
    "## Save Model and Weights"
   ]
  },
  {
   "cell_type": "code",
   "execution_count": 16,
   "metadata": {},
   "outputs": [],
   "source": [
    "model.save('coba_bnn_56_traffic.h5')\n",
    "model.save_weights('coba_bnn_56_traffic_weights.h5')"
   ]
  },
  {
   "cell_type": "markdown",
   "metadata": {},
   "source": [
    "## Load Partial NN weights (based on layer name)"
   ]
  },
  {
   "cell_type": "code",
   "execution_count": null,
   "metadata": {},
   "outputs": [],
   "source": [
    "new_inputs = keras.Input(shape=(56,), name=\"digits\")\n",
    "new_outputs = layers.Dense(6, activation=\"softmax\", name=\"predictions\")(new_inputs)\n",
    "\n",
    "new_model = keras.Model(inputs=new_inputs, outputs=new_outputs)\n",
    "new_model.load_weights('coba_bnn_56_traffic_weights.h5', by_name=True)"
   ]
  },
  {
   "cell_type": "markdown",
   "metadata": {},
   "source": [
    "## Predict One Instance with the New Partial Model"
   ]
  },
  {
   "cell_type": "code",
   "execution_count": null,
   "metadata": {},
   "outputs": [],
   "source": [
    "predictions = new_model.predict(np.array([inttobit(48920584543893867)]))\n",
    "np.argmax(predictions[0])"
   ]
  },
  {
   "cell_type": "markdown",
   "metadata": {},
   "source": [
    "## Misc"
   ]
  },
  {
   "cell_type": "code",
   "execution_count": null,
   "metadata": {},
   "outputs": [],
   "source": [
    "coba_x = data['feature'].to_numpy()\n",
    "type(coba_x)"
   ]
  },
  {
   "cell_type": "code",
   "execution_count": null,
   "metadata": {},
   "outputs": [],
   "source": [
    "data['app_label'].unique(to_numpy'app_label'].value_counts()"
   ]
  },
  {
   "cell_type": "code",
   "execution_count": null,
   "metadata": {},
   "outputs": [],
   "source": [
    "coba_xtrain = data['feature'][:].tolist()"
   ]
  },
  {
   "cell_type": "code",
   "execution_count": null,
   "metadata": {},
   "outputs": [],
   "source": [
    "np.unpackbits(np.frombuffer(raw(packet[5]), dtype=np.uint8))"
   ]
  },
  {
   "cell_type": "code",
   "execution_count": null,
   "metadata": {},
   "outputs": [],
   "source": [
    "packet[5]['TCP'].sport"
   ]
  },
  {
   "cell_type": "code",
   "execution_count": null,
   "metadata": {},
   "outputs": [],
   "source": [
    "from utils import PREFIX_TO_APP_ID, PREFIX_TO_TRAFFIC_ID\n",
    "print(len(PREFIX_TO_APP_ID))\n",
    "print(len(PREFIX_TO_TRAFFIC_ID))"
   ]
  },
  {
   "cell_type": "code",
   "execution_count": null,
   "metadata": {},
   "outputs": [],
   "source": [
    "data['traffic_label'].unique()"
   ]
  },
  {
   "cell_type": "code",
   "execution_count": null,
   "metadata": {},
   "outputs": [],
   "source": [
    "def coba_sparse_array(packet, max_length=40):\n",
    "    arr = np.frombuffer(raw(packet), dtype=np.uint8)[0: max_length] / 255\n",
    "    if len(arr) < max_length:\n",
    "        pad_width = max_length - len(arr)\n",
    "        arr = np.pad(arr, pad_width=(0, pad_width), constant_values=0)\n",
    "\n",
    "    arr = sparse.csr_matrix(arr)\n",
    "    return arr"
   ]
  },
  {
   "cell_type": "code",
   "execution_count": null,
   "metadata": {},
   "outputs": [],
   "source": [
    "def coba_process(path='data/icq_chat_3a.pcap'):\n",
    "    packet_list = []\n",
    "    for i, packet in enumerate(read_pcap(path)):\n",
    "        if should_omit_packet(packet):\n",
    "            pass\n",
    "        packet = remove_ether_header(packet)\n",
    "        if 'UDP' in packet:\n",
    "            packet['UDP'].remove_payload()\n",
    "        if 'TCP' in packet:\n",
    "            packet['TCP'].remove_payload()\n",
    "        \n",
    "        \n",
    "        #packet = coba_sparse_array(packet)\n",
    "        #packet = mask_ip(packet)\n",
    "        packet_list.append(packet)\n",
    "    return packet_list"
   ]
  },
  {
   "cell_type": "code",
   "execution_count": null,
   "metadata": {},
   "outputs": [],
   "source": [
    "arr = np.frombuffer(raw(packet[5]), dtype=np.uint8)\n",
    "arr_bit = np.unpackbits(arr)\n",
    "arr_bit"
   ]
  },
  {
   "cell_type": "code",
   "execution_count": null,
   "metadata": {},
   "outputs": [],
   "source": [
    "packet = coba_process()\n",
    "#packet = read_pcap('data/AIMchat2.pcapng')\n",
    "#packet = remove_ether_header(packet)"
   ]
  },
  {
   "cell_type": "code",
   "execution_count": null,
   "metadata": {},
   "outputs": [],
   "source": [
    "print(len(packet[0]['IP']))\n",
    "print(len(packet[0]['TCP']))\n",
    "#print(len(packet[0]['Raw']))\n",
    "packet[0].show()\n"
   ]
  },
  {
   "cell_type": "code",
   "execution_count": null,
   "metadata": {},
   "outputs": [],
   "source": [
    "UDP = []\n",
    "for i in packet:\n",
    "    if 'UDP' in i:\n",
    "        UDP.append(i)"
   ]
  },
  {
   "cell_type": "code",
   "execution_count": null,
   "metadata": {},
   "outputs": [],
   "source": [
    "print(len(UDP[0]['IP']))\n",
    "print(len(UDP[0]['UDP']))\n",
    "#print(len(UDP[0]['Raw']))\n",
    "UDP[0].show()\n",
    "#UDP"
   ]
  },
  {
   "cell_type": "code",
   "execution_count": null,
   "metadata": {},
   "outputs": [],
   "source": [
    "ip = (packet[2]['TCP']).remove_payload()"
   ]
  },
  {
   "cell_type": "code",
   "execution_count": null,
   "metadata": {},
   "outputs": [],
   "source": [
    "packet[3].remove_payload()\n",
    "packet[3].show()"
   ]
  },
  {
   "cell_type": "code",
   "execution_count": null,
   "metadata": {},
   "outputs": [],
   "source": [
    "import sys\n",
    "sys.getsizeof(x_train[0][39])"
   ]
  },
  {
   "cell_type": "code",
   "execution_count": null,
   "metadata": {},
   "outputs": [],
   "source": [
    "len(data['feature'])"
   ]
  },
  {
   "cell_type": "code",
   "execution_count": null,
   "metadata": {},
   "outputs": [],
   "source": [
    "from sklearn.tree import DecisionTreeClassifier\n",
    "from sklearn import metrics"
   ]
  },
  {
   "cell_type": "code",
   "execution_count": null,
   "metadata": {},
   "outputs": [],
   "source": [
    "clf  = DecisionTreeClassifier()\n",
    "clf = clf.fit(x_train, y_train)"
   ]
  },
  {
   "cell_type": "code",
   "execution_count": null,
   "metadata": {},
   "outputs": [],
   "source": [
    "y_pred = clf.predict(x_test)"
   ]
  },
  {
   "cell_type": "code",
   "execution_count": null,
   "metadata": {},
   "outputs": [],
   "source": [
    "print(\"Accuracy:\",metrics.accuracy_score(y_test, y_pred))"
   ]
  },
  {
   "cell_type": "code",
   "execution_count": null,
   "metadata": {},
   "outputs": [],
   "source": [
    "model.trainable_variables[16]"
   ]
  },
  {
   "cell_type": "code",
   "execution_count": null,
   "metadata": {},
   "outputs": [],
   "source": [
    "model.trainable_variables"
   ]
  },
  {
   "cell_type": "code",
   "execution_count": null,
   "metadata": {},
   "outputs": [],
   "source": [
    "max = 0\n",
    "for row in data['feature']:\n",
    "    if row[3] > max:\n",
    "        max = row[3]\n",
    "        print(row)"
   ]
  },
  {
   "cell_type": "code",
   "execution_count": null,
   "metadata": {},
   "outputs": [],
   "source": [
    "layers.Dropout"
   ]
  },
  {
   "cell_type": "code",
   "execution_count": null,
   "metadata": {},
   "outputs": [],
   "source": []
  },
  {
   "cell_type": "code",
   "execution_count": 17,
   "metadata": {},
   "outputs": [
    {
     "name": "stdout",
     "output_type": "stream",
     "text": [
      "Counter({3: 252890, 0: 252000, 1: 252000, 2: 252000, 4: 252000, 5: 252000})\n"
     ]
    }
   ],
   "source": [
    "from collections import Counter\n",
    "print(Counter(label_resampled))\n",
    "#print(len(x_train))"
   ]
  },
  {
   "cell_type": "code",
   "execution_count": null,
   "metadata": {},
   "outputs": [],
   "source": []
  },
  {
   "cell_type": "code",
   "execution_count": null,
   "metadata": {},
   "outputs": [],
   "source": [
    "y, idx, count = tf.unique_with_counts(data[\"traffic_label\"])\n",
    "print(y)\n",
    "print(count)"
   ]
  },
  {
   "cell_type": "code",
   "execution_count": null,
   "metadata": {},
   "outputs": [],
   "source": [
    "conv_header(6, 22341, 1234, 42)"
   ]
  },
  {
   "cell_type": "code",
   "execution_count": null,
   "metadata": {},
   "outputs": [],
   "source": [
    "bintoint(str(11111001111101110011011011001111111011110001111111100111))"
   ]
  },
  {
   "cell_type": "code",
   "execution_count": null,
   "metadata": {},
   "outputs": [],
   "source": [
    "transposed_l2[2]"
   ]
  },
  {
   "cell_type": "code",
   "execution_count": null,
   "metadata": {},
   "outputs": [],
   "source": [
    "data['traffic_label'].unique()"
   ]
  },
  {
   "cell_type": "code",
   "execution_count": null,
   "metadata": {},
   "outputs": [],
   "source": [
    "coba_packet = read_pcap(\"thesis_data_traffic/vpn_sftp_A.pcap\")"
   ]
  },
  {
   "cell_type": "code",
   "execution_count": 18,
   "metadata": {},
   "outputs": [
    {
     "data": {
      "text/plain": [
       "1512890"
      ]
     },
     "execution_count": 18,
     "metadata": {},
     "output_type": "execute_result"
    }
   ],
   "source": [
    "len(label_resampled)"
   ]
  },
  {
   "cell_type": "code",
   "execution_count": null,
   "metadata": {},
   "outputs": [],
   "source": []
  },
  {
   "cell_type": "code",
   "execution_count": null,
   "metadata": {},
   "outputs": [],
   "source": [
    "type(y_classes)"
   ]
  },
  {
   "cell_type": "code",
   "execution_count": null,
   "metadata": {},
   "outputs": [],
   "source": [
    "from sklearn.metrics import confusion_matrix\n",
    "confusion_matrix(y_test, y_classes, normalize='true')"
   ]
  },
  {
   "cell_type": "code",
   "execution_count": null,
   "metadata": {},
   "outputs": [],
   "source": []
  },
  {
   "cell_type": "code",
   "execution_count": null,
   "metadata": {},
   "outputs": [],
   "source": [
    "def plot_cm(df_confusion, title='Confusion matrix', cmap=plt.cm.Blues):\n",
    "    plt.matshow(df_confusion, cmap=cmap) # imshow\n",
    "    plt.title(title)\n",
    "    #plt.figure(figsize=(8, 8))\n",
    "    plt.colorbar()\n",
    "    tick_marks = np.arange(len(df_confusion.columns))\n",
    "    plt.xticks(tick_marks, df_confusion.columns, rotation=45)\n",
    "    plt.yticks(tick_marks, df_confusion.index)\n",
    "    #plt.tight_layout()\n",
    "    plt.ylabel(df_confusion.index.name)\n",
    "    plt.xlabel(df_confusion.columns.name)\n",
    "    \n",
    "\n",
    "plot_cm(df_confusion_norm)"
   ]
  },
  {
   "cell_type": "code",
   "execution_count": null,
   "metadata": {},
   "outputs": [],
   "source": [
    "\n"
   ]
  },
  {
   "cell_type": "code",
   "execution_count": null,
   "metadata": {},
   "outputs": [],
   "source": []
  },
  {
   "cell_type": "code",
   "execution_count": null,
   "metadata": {},
   "outputs": [],
   "source": [
    "import scikitplot as skplt\n",
    "\n",
    "skplt.metrics.plot_roc_curve(y_test, y_prob)\n",
    "\n",
    "plt.show()"
   ]
  },
  {
   "cell_type": "code",
   "execution_count": null,
   "metadata": {},
   "outputs": [],
   "source": [
    "model.layers[5].name"
   ]
  },
  {
   "cell_type": "code",
   "execution_count": null,
   "metadata": {},
   "outputs": [],
   "source": [
    "coba_load = tf.keras.models.load_model(\"coba_bnn_56_traffic.h5\")"
   ]
  },
  {
   "cell_type": "code",
   "execution_count": null,
   "metadata": {},
   "outputs": [],
   "source": [
    "coba_load.summary()"
   ]
  },
  {
   "cell_type": "code",
   "execution_count": null,
   "metadata": {},
   "outputs": [],
   "source": [
    "results = coba_load.evaluate(x_test, y_test)\n",
    "print(\"test loss, test acc:\", results)"
   ]
  },
  {
   "cell_type": "code",
   "execution_count": null,
   "metadata": {},
   "outputs": [],
   "source": [
    "weights_list = coba_load.get_weights()"
   ]
  },
  {
   "cell_type": "code",
   "execution_count": null,
   "metadata": {},
   "outputs": [],
   "source": [
    "weights_list[6]"
   ]
  },
  {
   "cell_type": "code",
   "execution_count": null,
   "metadata": {},
   "outputs": [],
   "source": []
  },
  {
   "cell_type": "code",
   "execution_count": null,
   "metadata": {},
   "outputs": [],
   "source": []
  },
  {
   "cell_type": "code",
   "execution_count": null,
   "metadata": {},
   "outputs": [],
   "source": [
    "model.trainable_variables"
   ]
  },
  {
   "cell_type": "code",
   "execution_count": null,
   "metadata": {},
   "outputs": [],
   "source": [
    "len(data[])"
   ]
  },
  {
   "cell_type": "code",
   "execution_count": null,
   "metadata": {},
   "outputs": [],
   "source": [
    "len(inttobit(312))"
   ]
  },
  {
   "cell_type": "code",
   "execution_count": null,
   "metadata": {},
   "outputs": [],
   "source": [
    "len(predictions)"
   ]
  },
  {
   "cell_type": "code",
   "execution_count": null,
   "metadata": {},
   "outputs": [],
   "source": []
  }
 ],
 "metadata": {
  "kernelspec": {
   "display_name": "Python 3",
   "language": "python",
   "name": "python3"
  },
  "language_info": {
   "codemirror_mode": {
    "name": "ipython",
    "version": 3
   },
   "file_extension": ".py",
   "mimetype": "text/x-python",
   "name": "python",
   "nbconvert_exporter": "python",
   "pygments_lexer": "ipython3",
   "version": "3.7.4"
  }
 },
 "nbformat": 4,
 "nbformat_minor": 5
}
